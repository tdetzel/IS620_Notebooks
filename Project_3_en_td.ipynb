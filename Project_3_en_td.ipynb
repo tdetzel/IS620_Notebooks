{
 "cells": [
  {
   "cell_type": "code",
   "execution_count": 1,
   "metadata": {
    "collapsed": false
   },
   "outputs": [],
   "source": [
    "from __future__ import division  # Python 2 users only\n",
    "# import notebook\n",
    "import nltk, re, pprint\n",
    "from nltk.tokenize import word_tokenize, sent_tokenize\n",
    "from nltk.collocations import BigramCollocationFinder\n",
    "from collections import Counter\n",
    "#from string import lower\n",
    "from __future__ import division\n",
    "from itertools import *\n",
    "import codecs\n",
    "import urllib2\n",
    "import sys\n",
    "import os\n",
    "import string\n",
    "%matplotlib inline\n",
    "#matplotlib.use('Agg')\n",
    "import matplotlib.pyplot as plot\n",
    "import matplotlib.colors as colors\n",
    "plot.rcParams['figure.figsize'] = (21, 14)\n",
    "# import spacy\n",
    "from __future__ import unicode_literals\n",
    "import pandas as pd\n",
    "import itertools as it\n",
    "import numpy as np\n",
    "from scipy.stats import rankdata\n",
    "# import textacy"
   ]
  },
  {
   "cell_type": "markdown",
   "metadata": {},
   "source": [
    "### Erik's stuff here"
   ]
  },
  {
   "cell_type": "markdown",
   "metadata": {},
   "source": [
    "## Building the Feature Sets"
   ]
  },
  {
   "cell_type": "code",
   "execution_count": 2,
   "metadata": {
    "collapsed": false
   },
   "outputs": [],
   "source": [
    "## stephen holiday feature set\n",
    "def nameFeatures(name):\n",
    "    name=name.lower()\n",
    "    return {\n",
    "        'last_letter': name[-1],\n",
    "        'last_two' : name[-2:],\n",
    "        'last_is_vowel' : (name[-1] in 'aeiouy')\n",
    "        }"
   ]
  },
  {
   "cell_type": "code",
   "execution_count": 3,
   "metadata": {
    "collapsed": false
   },
   "outputs": [
    {
     "data": {
      "text/plain": [
       "{u'last_is_vowel': False, u'last_letter': u'k', u'last_two': u'ek'}"
      ]
     },
     "execution_count": 3,
     "metadata": {},
     "output_type": "execute_result"
    }
   ],
   "source": [
    "nameFeatures('Shrek')"
   ]
  },
  {
   "cell_type": "code",
   "execution_count": 141,
   "metadata": {
    "collapsed": false
   },
   "outputs": [],
   "source": [
    "## fixed suffix 2 so it grabs last two characters, sted of only second to last; scores slightly higher\n",
    "def gender_features(word):\n",
    "    return {'suffix1': word[-1],\n",
    "            'suffix2': word[-2:],\n",
    "            'last_is_vowel' : (word[-1] in 'aeiouy')}"
   ]
  },
  {
   "cell_type": "markdown",
   "metadata": {},
   "source": [
    "## Creating the Training, Dev_Test, and Test Sets"
   ]
  },
  {
   "cell_type": "code",
   "execution_count": 142,
   "metadata": {
    "collapsed": false
   },
   "outputs": [],
   "source": [
    "import random\n",
    "from nltk.corpus import names\n",
    "random.seed(1234) # for reproducibility\n",
    "names = ([(name, 'male') for name in names.words('male.txt')] +\n",
    "         [(name, 'female') for name in names.words('female.txt')])\n",
    "random.shuffle(names) \n",
    "\n",
    "test_names = names[:500]\n",
    "devtest_names = names[500:1000]\n",
    "train_names = names[1000:]"
   ]
  },
  {
   "cell_type": "code",
   "execution_count": 135,
   "metadata": {
    "collapsed": false
   },
   "outputs": [
    {
     "name": "stdout",
     "output_type": "stream",
     "text": [
      "500 500 6944\n"
     ]
    }
   ],
   "source": [
    "print len(test_names), len(devtest_names), len(train_names)"
   ]
  },
  {
   "cell_type": "code",
   "execution_count": 16,
   "metadata": {
    "collapsed": false,
    "scrolled": true
   },
   "outputs": [
    {
     "data": {
      "text/plain": [
       "[(u'Garwin', u'male'),\n",
       " (u'Cindie', u'female'),\n",
       " (u'Juanita', u'male'),\n",
       " (u'Dael', u'female'),\n",
       " (u'Jillayne', u'female'),\n",
       " (u'Sean', u'male'),\n",
       " (u'Nell', u'female'),\n",
       " (u'Christie', u'male'),\n",
       " (u'Shannen', u'female')]"
      ]
     },
     "execution_count": 16,
     "metadata": {},
     "output_type": "execute_result"
    }
   ],
   "source": [
    "names[0:9]"
   ]
  },
  {
   "cell_type": "markdown",
   "metadata": {},
   "source": [
    "## Building a Classifier based on Naive Bayes\n",
    "Using the gender features set"
   ]
  },
  {
   "cell_type": "code",
   "execution_count": 143,
   "metadata": {
    "collapsed": false
   },
   "outputs": [
    {
     "name": "stdout",
     "output_type": "stream",
     "text": [
      "0.766\n"
     ]
    }
   ],
   "source": [
    "train_set = [(gender_features(n), g) for (n,g) in train_names]\n",
    "devtest_set = [(gender_features(n), g) for (n,g) in devtest_names]\n",
    "test_set = [(gender_features(n), g) for (n,g) in test_names]\n",
    "nbclassifier = nltk.NaiveBayesClassifier.train(train_set) \n",
    "print nltk.classify.accuracy(nbclassifier, devtest_set)"
   ]
  },
  {
   "cell_type": "code",
   "execution_count": 145,
   "metadata": {
    "collapsed": false,
    "scrolled": true
   },
   "outputs": [
    {
     "name": "stdout",
     "output_type": "stream",
     "text": [
      "correct=female   guess=male     name=Aimil                         \n",
      "correct=female   guess=male     name=Alys                          \n",
      "correct=female   guess=male     name=Amargo                        \n",
      "correct=female   guess=male     name=Ambur                         \n",
      "correct=female   guess=male     name=Annabell                      \n",
      "correct=female   guess=male     name=Arabel                        \n",
      "correct=female   guess=male     name=Beitris                       \n",
      "correct=female   guess=male     name=Beulah                        \n",
      "correct=female   guess=male     name=Blair                         \n",
      "correct=female   guess=male     name=Brigid                        \n",
      "correct=female   guess=male     name=Brit                          \n",
      "correct=female   guess=male     name=Carmon                        \n",
      "correct=female   guess=male     name=Delores                       \n",
      "correct=female   guess=male     name=Deloris                       \n",
      "correct=female   guess=male     name=Denys                         \n",
      "correct=female   guess=male     name=Dorit                         \n",
      "correct=female   guess=male     name=Eleanor                       \n",
      "correct=female   guess=male     name=Ethelind                      \n",
      "correct=female   guess=male     name=Ethyl                         \n",
      "correct=female   guess=male     name=Evangelin                     \n",
      "correct=female   guess=male     name=Francis                       \n",
      "correct=female   guess=male     name=Gillian                       \n",
      "correct=female   guess=male     name=Ginnifer                      \n",
      "correct=female   guess=male     name=Glynis                        \n",
      "correct=female   guess=male     name=Hannibal                      \n",
      "correct=female   guess=male     name=Hester                        \n",
      "correct=female   guess=male     name=Hesther                       \n",
      "correct=female   guess=male     name=Jaleh                         \n",
      "correct=female   guess=male     name=Jan                           \n",
      "correct=female   guess=male     name=Janis                         \n",
      "correct=female   guess=male     name=Jessalin                      \n",
      "correct=female   guess=male     name=Jill                          \n",
      "correct=female   guess=male     name=Jordain                       \n",
      "correct=female   guess=male     name=Joyan                         \n",
      "correct=female   guess=male     name=Karin                         \n",
      "correct=female   guess=male     name=Kaster                        \n",
      "correct=female   guess=male     name=Katalin                       \n",
      "correct=female   guess=male     name=Kathleen                      \n",
      "correct=female   guess=male     name=Kiah                          \n",
      "correct=female   guess=male     name=Lilian                        \n",
      "correct=female   guess=male     name=Loreen                        \n",
      "correct=female   guess=male     name=Margalo                       \n",
      "correct=female   guess=male     name=Maryl                         \n",
      "correct=female   guess=male     name=Marylin                       \n",
      "correct=female   guess=male     name=Max                           \n",
      "correct=female   guess=male     name=Megan                         \n",
      "correct=female   guess=male     name=Miriam                        \n",
      "correct=female   guess=male     name=Murial                        \n",
      "correct=female   guess=male     name=Pen                           \n",
      "correct=female   guess=male     name=Phylys                        \n",
      "correct=female   guess=male     name=Ragnhild                      \n",
      "correct=female   guess=male     name=Regan                         \n",
      "correct=female   guess=male     name=Renell                        \n",
      "correct=female   guess=male     name=Rozalin                       \n",
      "correct=female   guess=male     name=Sharleen                      \n",
      "correct=female   guess=male     name=Sharyl                        \n",
      "correct=female   guess=male     name=Shel                          \n",
      "correct=female   guess=male     name=Siobhan                       \n",
      "correct=female   guess=male     name=Suzann                        \n",
      "correct=female   guess=male     name=Sydel                         \n",
      "correct=female   guess=male     name=Ted                           \n",
      "correct=female   guess=male     name=Van                           \n",
      "correct=female   guess=male     name=Vin                           \n",
      "correct=female   guess=male     name=Wenonah                       \n",
      "correct=female   guess=male     name=Wynn                          \n",
      "correct=male     guess=female   name=Addie                         \n",
      "correct=male     guess=female   name=Antoine                       \n",
      "correct=male     guess=female   name=Antony                        \n",
      "correct=male     guess=female   name=Avery                         \n",
      "correct=male     guess=female   name=Barnie                        \n",
      "correct=male     guess=female   name=Bartholemy                    \n",
      "correct=male     guess=female   name=Bartie                        \n",
      "correct=male     guess=female   name=Berkley                       \n",
      "correct=male     guess=female   name=Bubba                         \n",
      "correct=male     guess=female   name=Bucky                         \n",
      "correct=male     guess=female   name=Constantine                   \n",
      "correct=male     guess=female   name=Corby                         \n",
      "correct=male     guess=female   name=Danie                         \n",
      "correct=male     guess=female   name=Dickey                        \n",
      "correct=male     guess=female   name=Etienne                       \n",
      "correct=male     guess=female   name=Finley                        \n",
      "correct=male     guess=female   name=Guillaume                     \n",
      "correct=male     guess=female   name=Guthrey                       \n",
      "correct=male     guess=female   name=Hadley                        \n",
      "correct=male     guess=female   name=Jackie                        \n",
      "correct=male     guess=female   name=Jaime                         \n",
      "correct=male     guess=female   name=Jeffrey                       \n",
      "correct=male     guess=female   name=Jerrome                       \n",
      "correct=male     guess=female   name=Jerry                         \n",
      "correct=male     guess=female   name=Johnny                        \n",
      "correct=male     guess=female   name=Krishna                       \n",
      "correct=male     guess=female   name=Kyle                          \n",
      "correct=male     guess=female   name=Luigi                         \n",
      "correct=male     guess=female   name=Martyn                        \n",
      "correct=male     guess=female   name=Merry                         \n",
      "correct=male     guess=female   name=Monte                         \n",
      "correct=male     guess=female   name=Mugsy                         \n",
      "correct=male     guess=female   name=Mustafa                       \n",
      "correct=male     guess=female   name=Page                          \n",
      "correct=male     guess=female   name=Pattie                        \n",
      "correct=male     guess=female   name=Reece                         \n",
      "correct=male     guess=female   name=Reilly                        \n",
      "correct=male     guess=female   name=Robbie                        \n",
      "correct=male     guess=female   name=Ruddie                        \n",
      "correct=male     guess=female   name=Rudie                         \n",
      "correct=male     guess=female   name=Shayne                        \n",
      "correct=male     guess=female   name=Sheffie                       \n",
      "correct=male     guess=female   name=Siffre                        \n",
      "correct=male     guess=female   name=Sollie                        \n",
      "correct=male     guess=female   name=Timothee                      \n",
      "correct=male     guess=female   name=Tucky                         \n",
      "correct=male     guess=female   name=Vinny                         \n",
      "correct=male     guess=female   name=Wally                         \n",
      "correct=male     guess=female   name=Whitby                        \n",
      "correct=male     guess=female   name=Wyn                           \n",
      "correct=male     guess=female   name=Yardley                       \n",
      "correct=male     guess=female   name=Yehudi                        \n"
     ]
    }
   ],
   "source": [
    "errors = []\n",
    "for (name, tag) in devtest_names:\n",
    "    guess = nbclassifier.classify(gender_features(name))\n",
    "    if guess != tag:\n",
    "        errors.append((tag, guess, name))\n",
    "\n",
    "for (tag, guess, name) in sorted(errors):\n",
    "    print 'correct=%-8s guess=%-8s name=%-30s' %(tag, guess, name)"
   ]
  },
  {
   "cell_type": "code",
   "execution_count": 146,
   "metadata": {
    "collapsed": false
   },
   "outputs": [
    {
     "name": "stdout",
     "output_type": "stream",
     "text": [
      "Most Informative Features\n",
      "                 suffix2 = u'na'          female : male   =    158.9 : 1.0\n",
      "                 suffix1 = u'a'           female : male   =     42.4 : 1.0\n",
      "                 suffix2 = u'ia'          female : male   =     36.7 : 1.0\n",
      "                 suffix2 = u'ra'          female : male   =     35.2 : 1.0\n",
      "                 suffix2 = u'ld'            male : female =     32.7 : 1.0\n",
      "                 suffix2 = u'sa'          female : male   =     31.9 : 1.0\n",
      "                 suffix1 = u'k'             male : female =     29.8 : 1.0\n",
      "                 suffix2 = u'ta'          female : male   =     28.8 : 1.0\n",
      "                 suffix2 = u'us'            male : female =     26.9 : 1.0\n",
      "                 suffix2 = u'do'            male : female =     26.1 : 1.0\n"
     ]
    }
   ],
   "source": [
    "nbclassifier.show_most_informative_features(10)"
   ]
  },
  {
   "cell_type": "markdown",
   "metadata": {},
   "source": [
    "## Building Classifier Based on Decision Trees\n",
    "Using Gender Features"
   ]
  },
  {
   "cell_type": "code",
   "execution_count": 147,
   "metadata": {
    "collapsed": false
   },
   "outputs": [
    {
     "name": "stdout",
     "output_type": "stream",
     "text": [
      "0.774\n"
     ]
    }
   ],
   "source": [
    "classifier = nltk.classify.DecisionTreeClassifier.train(train_set, entropy_cutoff=0,support_cutoff=0)\n",
    "print nltk.classify.accuracy(classifier, devtest_set)"
   ]
  },
  {
   "cell_type": "code",
   "execution_count": 148,
   "metadata": {
    "collapsed": false,
    "scrolled": true
   },
   "outputs": [
    {
     "name": "stdout",
     "output_type": "stream",
     "text": [
      "correct=female   guess=male     name=Aimil                         \n",
      "correct=female   guess=male     name=Amargo                        \n",
      "correct=female   guess=male     name=Ambur                         \n",
      "correct=female   guess=male     name=Annabell                      \n",
      "correct=female   guess=male     name=Blair                         \n",
      "correct=female   guess=male     name=Brigid                        \n",
      "correct=female   guess=male     name=Brit                          \n",
      "correct=female   guess=male     name=Brooke                        \n",
      "correct=female   guess=male     name=Carmon                        \n",
      "correct=female   guess=male     name=Delores                       \n",
      "correct=female   guess=male     name=Dorit                         \n",
      "correct=female   guess=male     name=Eleanor                       \n",
      "correct=female   guess=male     name=Ethelind                      \n",
      "correct=female   guess=male     name=Evangelin                     \n",
      "correct=female   guess=male     name=Genvieve                      \n",
      "correct=female   guess=male     name=Gillian                       \n",
      "correct=female   guess=male     name=Ginnifer                      \n",
      "correct=female   guess=male     name=Hester                        \n",
      "correct=female   guess=male     name=Hesther                       \n",
      "correct=female   guess=male     name=Jacky                         \n",
      "correct=female   guess=male     name=Jan                           \n",
      "correct=female   guess=male     name=Jessalin                      \n",
      "correct=female   guess=male     name=Jill                          \n",
      "correct=female   guess=male     name=Jordain                       \n",
      "correct=female   guess=male     name=Joyan                         \n",
      "correct=female   guess=male     name=Karin                         \n",
      "correct=female   guess=male     name=Kaster                        \n",
      "correct=female   guess=male     name=Katalin                       \n",
      "correct=female   guess=male     name=Kippy                         \n",
      "correct=female   guess=male     name=Lilian                        \n",
      "correct=female   guess=male     name=Margalo                       \n",
      "correct=female   guess=male     name=Marylin                       \n",
      "correct=female   guess=male     name=Max                           \n",
      "correct=female   guess=male     name=Megan                         \n",
      "correct=female   guess=male     name=Miriam                        \n",
      "correct=female   guess=male     name=Paige                         \n",
      "correct=female   guess=male     name=Ragnhild                      \n",
      "correct=female   guess=male     name=Regan                         \n",
      "correct=female   guess=male     name=Renell                        \n",
      "correct=female   guess=male     name=Roby                          \n",
      "correct=female   guess=male     name=Rozalin                       \n",
      "correct=female   guess=male     name=Ruthy                         \n",
      "correct=female   guess=male     name=Siobhan                       \n",
      "correct=female   guess=male     name=Ted                           \n",
      "correct=female   guess=male     name=Van                           \n",
      "correct=female   guess=male     name=Vin                           \n",
      "correct=female   guess=male     name=Zoe                           \n",
      "correct=male     guess=female   name=Addie                         \n",
      "correct=male     guess=female   name=Alec                          \n",
      "correct=male     guess=female   name=Antoine                       \n",
      "correct=male     guess=female   name=Antony                        \n",
      "correct=male     guess=female   name=Avery                         \n",
      "correct=male     guess=female   name=Barnie                        \n",
      "correct=male     guess=female   name=Bartholemy                    \n",
      "correct=male     guess=female   name=Bartie                        \n",
      "correct=male     guess=female   name=Berkley                       \n",
      "correct=male     guess=female   name=Bubba                         \n",
      "correct=male     guess=female   name=Constantine                   \n",
      "correct=male     guess=female   name=Danie                         \n",
      "correct=male     guess=female   name=Daniel                        \n",
      "correct=male     guess=female   name=Demetris                      \n",
      "correct=male     guess=female   name=Derrol                        \n",
      "correct=male     guess=female   name=Dickey                        \n",
      "correct=male     guess=female   name=Earl                          \n",
      "correct=male     guess=female   name=Ellsworth                     \n",
      "correct=male     guess=female   name=Etienne                       \n",
      "correct=male     guess=female   name=Felix                         \n",
      "correct=male     guess=female   name=Finley                        \n",
      "correct=male     guess=female   name=Flynn                         \n",
      "correct=male     guess=female   name=Guthrey                       \n",
      "correct=male     guess=female   name=Hadley                        \n",
      "correct=male     guess=female   name=Hannibal                      \n",
      "correct=male     guess=female   name=Hershel                       \n",
      "correct=male     guess=female   name=Israel                        \n",
      "correct=male     guess=female   name=Jackie                        \n",
      "correct=male     guess=female   name=Jedediah                      \n",
      "correct=male     guess=female   name=Jeffrey                       \n",
      "correct=male     guess=female   name=Jerry                         \n",
      "correct=male     guess=female   name=Johnny                        \n",
      "correct=male     guess=female   name=Judith                        \n",
      "correct=male     guess=female   name=Krishna                       \n",
      "correct=male     guess=female   name=Kyle                          \n",
      "correct=male     guess=female   name=Lewis                         \n",
      "correct=male     guess=female   name=Lincoln                       \n",
      "correct=male     guess=female   name=Luigi                         \n",
      "correct=male     guess=female   name=Martyn                        \n",
      "correct=male     guess=female   name=Merry                         \n",
      "correct=male     guess=female   name=Meryl                         \n",
      "correct=male     guess=female   name=Monte                         \n",
      "correct=male     guess=female   name=Mugsy                         \n",
      "correct=male     guess=female   name=Mustafa                       \n",
      "correct=male     guess=female   name=Pattie                        \n",
      "correct=male     guess=female   name=Reece                         \n",
      "correct=male     guess=female   name=Reilly                        \n",
      "correct=male     guess=female   name=Reuben                        \n",
      "correct=male     guess=female   name=Robbie                        \n",
      "correct=male     guess=female   name=Ruddie                        \n",
      "correct=male     guess=female   name=Rudie                         \n",
      "correct=male     guess=female   name=Shayne                        \n",
      "correct=male     guess=female   name=Sheffie                       \n",
      "correct=male     guess=female   name=Siffre                        \n",
      "correct=male     guess=female   name=Sollie                        \n",
      "correct=male     guess=female   name=Stillmann                     \n",
      "correct=male     guess=female   name=Swen                          \n",
      "correct=male     guess=female   name=Timothee                      \n",
      "correct=male     guess=female   name=Vachel                        \n",
      "correct=male     guess=female   name=Vinny                         \n",
      "correct=male     guess=female   name=Wallis                        \n",
      "correct=male     guess=female   name=Wally                         \n",
      "correct=male     guess=female   name=Wilden                        \n",
      "correct=male     guess=female   name=Wyn                           \n",
      "correct=male     guess=female   name=Yardley                       \n",
      "correct=male     guess=female   name=Yehudi                        \n"
     ]
    }
   ],
   "source": [
    "errors = []\n",
    "for (name, tag) in devtest_names:\n",
    "    guess = classifier.classify(gender_features(name))\n",
    "    if guess != tag:\n",
    "        errors.append((tag, guess, name))\n",
    "\n",
    "for (tag, guess, name) in sorted(errors):\n",
    "    print 'correct=%-8s guess=%-8s name=%-30s' %(tag, guess, name)"
   ]
  },
  {
   "cell_type": "code",
   "execution_count": 72,
   "metadata": {
    "collapsed": true
   },
   "outputs": [],
   "source": [
    "def gender_features4(name):\n",
    "    features = {}\n",
    "    features[\"firstletter\"] = name[0].lower()\n",
    "    features[\"lastletter\"] = name[-1].lower()\n",
    "    for letter in 'abcdefghijklmnopqrstuvwxyz':\n",
    "        features[\"count(%s)\" % letter] = name.lower().count(letter)\n",
    "        features[\"has(%s)\" % letter] = (letter in name.lower())\n",
    "    return features"
   ]
  },
  {
   "cell_type": "code",
   "execution_count": 60,
   "metadata": {
    "collapsed": false
   },
   "outputs": [
    {
     "name": "stdout",
     "output_type": "stream",
     "text": [
      "0.75\n"
     ]
    }
   ],
   "source": [
    "train_set = [(gender_features4(n), g) for (n,g) in train_names]\n",
    "devtest_set = [(gender_features4(n), g) for (n,g) in devtest_names]\n",
    "test_set = [(gender_features4(n), g) for (n,g) in test_names]\n",
    "nbclassifier = nltk.NaiveBayesClassifier.train(train_set) \n",
    "print nltk.classify.accuracy(nbclassifier, devtest_set)"
   ]
  },
  {
   "cell_type": "markdown",
   "metadata": {},
   "source": [
    "## Tom's analysis using Social Security names and a gender index\n",
    "\n",
    "There are three versions based on different feature sets. Nomenclature follows *featuresetX(num)*, and *namesList2* is the list of 1950-2015 names from the Social Security data. You have to run the code in the appendix section to generate nam To run this, you'll have to generate *namesList2*. The featuresets are:  \n",
    "\n",
    "* 1 -- gender index and last letter in name\n",
    "* 2 -- g_index, last letter, last two letters and last is vowel (bool)\n",
    "* 3 -- same as 2, except remove the gender index\n"
   ]
  },
  {
   "cell_type": "markdown",
   "metadata": {},
   "source": [
    "### The featureset functions"
   ]
  },
  {
   "cell_type": "code",
   "execution_count": 149,
   "metadata": {
    "collapsed": true
   },
   "outputs": [],
   "source": [
    "## feature set 1 \n",
    "def gender_featuresX(namelist):\n",
    "    return {'g_index': namelist[1],\n",
    "            'last_letter': namelist[0][-1]}\n"
   ]
  },
  {
   "cell_type": "code",
   "execution_count": 150,
   "metadata": {
    "collapsed": true
   },
   "outputs": [],
   "source": [
    "## feature set 2\n",
    "def  gender_featuresX2(nameList):\n",
    "    return {\n",
    "        'last_letter': nameList[0][-1],\n",
    "        'last_two' : nameList[0][-2:],\n",
    "        'last_is_vowel' : (nameList[0][-1] in 'aeiouy'),\n",
    "        'g_index': nameList[1]\n",
    "        }"
   ]
  },
  {
   "cell_type": "code",
   "execution_count": 151,
   "metadata": {
    "collapsed": true
   },
   "outputs": [],
   "source": [
    "## feature set 3\n",
    "def  gender_featuresX3(nameList):\n",
    "    return {\n",
    "        'last_letter': nameList[0][-1],\n",
    "        'last_two' : nameList[0][-2:],\n",
    "        'last_is_vowel' : (nameList[0][-1] in 'aeiouy')\n",
    "        }"
   ]
  },
  {
   "cell_type": "markdown",
   "metadata": {},
   "source": [
    "### Featureset 1\n"
   ]
  },
  {
   "cell_type": "code",
   "execution_count": 155,
   "metadata": {
    "collapsed": false
   },
   "outputs": [],
   "source": [
    "## code randomly shuffles the Social Security names list, then makes a featuresetX\n",
    "random.shuffle(namesList2) \n",
    "featuresetX = []\n",
    "for i in range(len(namesList2)):\n",
    "    features = gender_featuresX(namesList2[i])\n",
    "    gender = namesList2[i][2]\n",
    "    row = (features, gender)\n",
    "    featuresetX.append(row)"
   ]
  },
  {
   "cell_type": "code",
   "execution_count": 156,
   "metadata": {
    "collapsed": false
   },
   "outputs": [],
   "source": [
    "## select training, development and test sets\n",
    "train_setX = featuresetX[1000:]\n",
    "test_setX = featuresetX[:500]\n",
    "dev_setX = featuresetX[500:1000]"
   ]
  },
  {
   "cell_type": "code",
   "execution_count": 157,
   "metadata": {
    "collapsed": false
   },
   "outputs": [
    {
     "data": {
      "text/plain": [
       "[({u'g_index': 1.0, u'last_letter': 'h'}, u'male'),\n",
       " ({u'g_index': 1.0, u'last_letter': 's'}, u'male'),\n",
       " ({u'g_index': -1.0, u'last_letter': 'a'}, u'female'),\n",
       " ({u'g_index': -1.0, u'last_letter': 'a'}, u'female'),\n",
       " ({u'g_index': -1.0, u'last_letter': 'a'}, u'female')]"
      ]
     },
     "execution_count": 157,
     "metadata": {},
     "output_type": "execute_result"
    }
   ],
   "source": [
    "## check for conformity\n",
    "train_setX[0:5]"
   ]
  },
  {
   "cell_type": "code",
   "execution_count": 168,
   "metadata": {
    "collapsed": false
   },
   "outputs": [
    {
     "name": "stdout",
     "output_type": "stream",
     "text": [
      "0.98\n"
     ]
    }
   ],
   "source": [
    "## train the classifier, check accuracy\n",
    "nbclassifierX = nltk.NaiveBayesClassifier.train(train_setX) \n",
    "print nltk.classify.accuracy(classifierX, dev_setX)"
   ]
  },
  {
   "cell_type": "code",
   "execution_count": 169,
   "metadata": {
    "collapsed": false
   },
   "outputs": [
    {
     "name": "stdout",
     "output_type": "stream",
     "text": [
      "Most Informative Features\n",
      "             last_letter = 'k'              male : female =     29.7 : 1.0\n",
      "             last_letter = 'a'            female : male   =     17.0 : 1.0\n",
      "             last_letter = 'v'              male : female =     16.6 : 1.0\n",
      "             last_letter = 'p'              male : female =     16.2 : 1.0\n",
      "             last_letter = 'f'              male : female =     15.6 : 1.0\n"
     ]
    }
   ],
   "source": [
    "## most informative features\n",
    "nbclassifierX.show_most_informative_features(5)"
   ]
  },
  {
   "cell_type": "code",
   "execution_count": 170,
   "metadata": {
    "collapsed": false
   },
   "outputs": [
    {
     "name": "stdout",
     "output_type": "stream",
     "text": [
      "correct=female   guess=male     name={u'g_index': -1.0, u'last_letter': 'a'}\n",
      "correct=female   guess=male     name={u'g_index': -1.0, u'last_letter': 'a'}\n",
      "correct=female   guess=male     name={u'g_index': -1.0, u'last_letter': 'a'}\n",
      "correct=female   guess=male     name={u'g_index': -1.0, u'last_letter': 'a'}\n",
      "correct=female   guess=male     name={u'g_index': -1.0, u'last_letter': 'a'}\n",
      "correct=female   guess=male     name={u'g_index': -1.0, u'last_letter': 'a'}\n",
      "correct=female   guess=male     name={u'g_index': -1.0, u'last_letter': 'a'}\n",
      "correct=female   guess=male     name={u'g_index': -1.0, u'last_letter': 'a'}\n",
      "correct=female   guess=male     name={u'g_index': -1.0, u'last_letter': 'a'}\n",
      "correct=female   guess=male     name={u'g_index': -1.0, u'last_letter': 'a'}\n",
      "correct=female   guess=male     name={u'g_index': -1.0, u'last_letter': 'a'}\n",
      "correct=female   guess=male     name={u'g_index': -1.0, u'last_letter': 'a'}\n",
      "correct=female   guess=male     name={u'g_index': -1.0, u'last_letter': 'a'}\n",
      "correct=female   guess=male     name={u'g_index': -1.0, u'last_letter': 'a'}\n",
      "correct=female   guess=male     name={u'g_index': -1.0, u'last_letter': 'a'}\n",
      "correct=female   guess=male     name={u'g_index': -1.0, u'last_letter': 'a'}\n",
      "correct=female   guess=male     name={u'g_index': -1.0, u'last_letter': 'a'}\n",
      "correct=female   guess=male     name={u'g_index': -1.0, u'last_letter': 'a'}\n",
      "correct=female   guess=male     name={u'g_index': -1.0, u'last_letter': 'a'}\n",
      "correct=female   guess=male     name={u'g_index': -1.0, u'last_letter': 'a'}\n",
      "correct=female   guess=male     name={u'g_index': -1.0, u'last_letter': 'a'}\n",
      "correct=female   guess=male     name={u'g_index': -1.0, u'last_letter': 'a'}\n",
      "correct=female   guess=male     name={u'g_index': -1.0, u'last_letter': 'a'}\n",
      "correct=female   guess=male     name={u'g_index': -1.0, u'last_letter': 'a'}\n",
      "correct=female   guess=male     name={u'g_index': -1.0, u'last_letter': 'a'}\n",
      "correct=female   guess=male     name={u'g_index': -1.0, u'last_letter': 'a'}\n",
      "correct=female   guess=male     name={u'g_index': -1.0, u'last_letter': 'a'}\n",
      "correct=female   guess=male     name={u'g_index': -1.0, u'last_letter': 'a'}\n",
      "correct=female   guess=male     name={u'g_index': -1.0, u'last_letter': 'a'}\n",
      "correct=female   guess=male     name={u'g_index': -1.0, u'last_letter': 'a'}\n",
      "correct=female   guess=male     name={u'g_index': -1.0, u'last_letter': 'a'}\n",
      "correct=female   guess=male     name={u'g_index': -1.0, u'last_letter': 'a'}\n",
      "correct=female   guess=male     name={u'g_index': -1.0, u'last_letter': 'a'}\n",
      "correct=female   guess=male     name={u'g_index': -1.0, u'last_letter': 'a'}\n",
      "correct=female   guess=male     name={u'g_index': -1.0, u'last_letter': 'a'}\n",
      "correct=female   guess=male     name={u'g_index': -1.0, u'last_letter': 'a'}\n",
      "correct=female   guess=male     name={u'g_index': -1.0, u'last_letter': 'a'}\n",
      "correct=female   guess=male     name={u'g_index': -1.0, u'last_letter': 'a'}\n",
      "correct=female   guess=male     name={u'g_index': -1.0, u'last_letter': 'a'}\n",
      "correct=female   guess=male     name={u'g_index': -1.0, u'last_letter': 'a'}\n",
      "correct=female   guess=male     name={u'g_index': -1.0, u'last_letter': 'a'}\n",
      "correct=female   guess=male     name={u'g_index': -1.0, u'last_letter': 'a'}\n",
      "correct=female   guess=male     name={u'g_index': -1.0, u'last_letter': 'a'}\n",
      "correct=female   guess=male     name={u'g_index': -1.0, u'last_letter': 'a'}\n",
      "correct=female   guess=male     name={u'g_index': -1.0, u'last_letter': 'a'}\n",
      "correct=female   guess=male     name={u'g_index': -1.0, u'last_letter': 'a'}\n",
      "correct=female   guess=male     name={u'g_index': -1.0, u'last_letter': 'a'}\n",
      "correct=female   guess=male     name={u'g_index': -1.0, u'last_letter': 'a'}\n",
      "correct=female   guess=male     name={u'g_index': -1.0, u'last_letter': 'a'}\n",
      "correct=female   guess=male     name={u'g_index': -1.0, u'last_letter': 'a'}\n",
      "correct=female   guess=male     name={u'g_index': -1.0, u'last_letter': 'a'}\n",
      "correct=female   guess=male     name={u'g_index': -1.0, u'last_letter': 'a'}\n",
      "correct=female   guess=male     name={u'g_index': -1.0, u'last_letter': 'a'}\n",
      "correct=female   guess=male     name={u'g_index': -1.0, u'last_letter': 'a'}\n",
      "correct=female   guess=male     name={u'g_index': -1.0, u'last_letter': 'a'}\n",
      "correct=female   guess=male     name={u'g_index': -1.0, u'last_letter': 'a'}\n",
      "correct=female   guess=male     name={u'g_index': -1.0, u'last_letter': 'a'}\n",
      "correct=female   guess=male     name={u'g_index': -1.0, u'last_letter': 'a'}\n",
      "correct=female   guess=male     name={u'g_index': -1.0, u'last_letter': 'a'}\n",
      "correct=female   guess=male     name={u'g_index': -1.0, u'last_letter': 'a'}\n",
      "correct=female   guess=male     name={u'g_index': -1.0, u'last_letter': 'a'}\n",
      "correct=female   guess=male     name={u'g_index': -1.0, u'last_letter': 'a'}\n",
      "correct=female   guess=male     name={u'g_index': -1.0, u'last_letter': 'a'}\n",
      "correct=female   guess=male     name={u'g_index': -1.0, u'last_letter': 'a'}\n",
      "correct=female   guess=male     name={u'g_index': -1.0, u'last_letter': 'a'}\n",
      "correct=female   guess=male     name={u'g_index': -1.0, u'last_letter': 'a'}\n",
      "correct=female   guess=male     name={u'g_index': -1.0, u'last_letter': 'a'}\n",
      "correct=female   guess=male     name={u'g_index': -1.0, u'last_letter': 'a'}\n",
      "correct=female   guess=male     name={u'g_index': -1.0, u'last_letter': 'a'}\n",
      "correct=female   guess=male     name={u'g_index': -1.0, u'last_letter': 'a'}\n",
      "correct=female   guess=male     name={u'g_index': -1.0, u'last_letter': 'a'}\n",
      "correct=female   guess=male     name={u'g_index': -1.0, u'last_letter': 'a'}\n",
      "correct=female   guess=male     name={u'g_index': -1.0, u'last_letter': 'a'}\n",
      "correct=female   guess=male     name={u'g_index': -1.0, u'last_letter': 'a'}\n",
      "correct=female   guess=male     name={u'g_index': -1.0, u'last_letter': 'a'}\n",
      "correct=female   guess=male     name={u'g_index': -1.0, u'last_letter': 'a'}\n",
      "correct=female   guess=male     name={u'g_index': -1.0, u'last_letter': 'a'}\n",
      "correct=female   guess=male     name={u'g_index': -1.0, u'last_letter': 'a'}\n",
      "correct=female   guess=male     name={u'g_index': -1.0, u'last_letter': 'a'}\n",
      "correct=female   guess=male     name={u'g_index': -1.0, u'last_letter': 'a'}\n",
      "correct=female   guess=male     name={u'g_index': -1.0, u'last_letter': 'a'}\n",
      "correct=female   guess=male     name={u'g_index': -1.0, u'last_letter': 'a'}\n",
      "correct=female   guess=male     name={u'g_index': -1.0, u'last_letter': 'a'}\n",
      "correct=female   guess=male     name={u'g_index': -1.0, u'last_letter': 'a'}\n",
      "correct=female   guess=male     name={u'g_index': -1.0, u'last_letter': 'a'}\n",
      "correct=female   guess=male     name={u'g_index': -1.0, u'last_letter': 'a'}\n",
      "correct=female   guess=male     name={u'g_index': -1.0, u'last_letter': 'a'}\n",
      "correct=female   guess=male     name={u'g_index': -1.0, u'last_letter': 'a'}\n",
      "correct=female   guess=male     name={u'g_index': -1.0, u'last_letter': 'a'}\n",
      "correct=female   guess=male     name={u'g_index': -1.0, u'last_letter': 'a'}\n",
      "correct=female   guess=male     name={u'g_index': -1.0, u'last_letter': 'a'}\n",
      "correct=female   guess=male     name={u'g_index': -1.0, u'last_letter': 'a'}\n",
      "correct=female   guess=male     name={u'g_index': -1.0, u'last_letter': 'a'}\n",
      "correct=female   guess=male     name={u'g_index': -1.0, u'last_letter': 'a'}\n",
      "correct=female   guess=male     name={u'g_index': -1.0, u'last_letter': 'a'}\n",
      "correct=female   guess=male     name={u'g_index': -1.0, u'last_letter': 'a'}\n",
      "correct=female   guess=male     name={u'g_index': -1.0, u'last_letter': 'a'}\n",
      "correct=female   guess=male     name={u'g_index': -1.0, u'last_letter': 'a'}\n",
      "correct=female   guess=male     name={u'g_index': -1.0, u'last_letter': 'a'}\n",
      "correct=female   guess=male     name={u'g_index': -1.0, u'last_letter': 'a'}\n",
      "correct=female   guess=male     name={u'g_index': -1.0, u'last_letter': 'a'}\n",
      "correct=female   guess=male     name={u'g_index': -1.0, u'last_letter': 'a'}\n",
      "correct=female   guess=male     name={u'g_index': -1.0, u'last_letter': 'a'}\n",
      "correct=female   guess=male     name={u'g_index': -1.0, u'last_letter': 'a'}\n",
      "correct=female   guess=male     name={u'g_index': -1.0, u'last_letter': 'a'}\n",
      "correct=female   guess=male     name={u'g_index': -1.0, u'last_letter': 'a'}\n",
      "correct=female   guess=male     name={u'g_index': -1.0, u'last_letter': 'a'}\n",
      "correct=female   guess=male     name={u'g_index': -1.0, u'last_letter': 'a'}\n",
      "correct=female   guess=male     name={u'g_index': -1.0, u'last_letter': 'a'}\n",
      "correct=female   guess=male     name={u'g_index': -1.0, u'last_letter': 'a'}\n",
      "correct=female   guess=male     name={u'g_index': -1.0, u'last_letter': 'a'}\n",
      "correct=female   guess=male     name={u'g_index': -1.0, u'last_letter': 'a'}\n",
      "correct=female   guess=male     name={u'g_index': -1.0, u'last_letter': 'a'}\n",
      "correct=female   guess=male     name={u'g_index': -1.0, u'last_letter': 'a'}\n",
      "correct=female   guess=male     name={u'g_index': -1.0, u'last_letter': 'a'}\n",
      "correct=female   guess=male     name={u'g_index': -1.0, u'last_letter': 'a'}\n",
      "correct=female   guess=male     name={u'g_index': -1.0, u'last_letter': 'a'}\n",
      "correct=female   guess=male     name={u'g_index': -1.0, u'last_letter': 'a'}\n",
      "correct=female   guess=male     name={u'g_index': -1.0, u'last_letter': 'a'}\n",
      "correct=female   guess=male     name={u'g_index': -1.0, u'last_letter': 'a'}\n",
      "correct=female   guess=male     name={u'g_index': -1.0, u'last_letter': 'a'}\n",
      "correct=female   guess=male     name={u'g_index': -1.0, u'last_letter': 'a'}\n",
      "correct=female   guess=male     name={u'g_index': -1.0, u'last_letter': 'a'}\n",
      "correct=female   guess=male     name={u'g_index': -1.0, u'last_letter': 'a'}\n",
      "correct=female   guess=male     name={u'g_index': -1.0, u'last_letter': 'a'}\n",
      "correct=female   guess=male     name={u'g_index': -1.0, u'last_letter': 'a'}\n",
      "correct=female   guess=male     name={u'g_index': -1.0, u'last_letter': 'a'}\n",
      "correct=female   guess=male     name={u'g_index': -1.0, u'last_letter': 'a'}\n",
      "correct=female   guess=male     name={u'g_index': -1.0, u'last_letter': 'a'}\n",
      "correct=female   guess=male     name={u'g_index': -1.0, u'last_letter': 'a'}\n",
      "correct=female   guess=male     name={u'g_index': -1.0, u'last_letter': 'a'}\n",
      "correct=female   guess=male     name={u'g_index': -1.0, u'last_letter': 'a'}\n",
      "correct=female   guess=male     name={u'g_index': -1.0, u'last_letter': 'a'}\n",
      "correct=female   guess=male     name={u'g_index': -1.0, u'last_letter': 'a'}\n",
      "correct=female   guess=male     name={u'g_index': -1.0, u'last_letter': 'a'}\n",
      "correct=female   guess=male     name={u'g_index': -1.0, u'last_letter': 'a'}\n",
      "correct=female   guess=male     name={u'g_index': -1.0, u'last_letter': 'a'}\n",
      "correct=female   guess=male     name={u'g_index': -1.0, u'last_letter': 'a'}\n",
      "correct=female   guess=male     name={u'g_index': -1.0, u'last_letter': 'a'}\n",
      "correct=female   guess=male     name={u'g_index': -1.0, u'last_letter': 'a'}\n",
      "correct=female   guess=male     name={u'g_index': -1.0, u'last_letter': 'a'}\n",
      "correct=female   guess=male     name={u'g_index': -1.0, u'last_letter': 'a'}\n",
      "correct=female   guess=male     name={u'g_index': -1.0, u'last_letter': 'a'}\n",
      "correct=female   guess=male     name={u'g_index': -1.0, u'last_letter': 'a'}\n",
      "correct=female   guess=male     name={u'g_index': -1.0, u'last_letter': 'a'}\n",
      "correct=female   guess=male     name={u'g_index': -1.0, u'last_letter': 'a'}\n",
      "correct=female   guess=male     name={u'g_index': -1.0, u'last_letter': 'a'}\n",
      "correct=female   guess=male     name={u'g_index': -1.0, u'last_letter': 'a'}\n",
      "correct=female   guess=male     name={u'g_index': -1.0, u'last_letter': 'a'}\n",
      "correct=female   guess=male     name={u'g_index': -1.0, u'last_letter': 'e'}\n",
      "correct=female   guess=male     name={u'g_index': -1.0, u'last_letter': 'e'}\n",
      "correct=female   guess=male     name={u'g_index': -1.0, u'last_letter': 'e'}\n",
      "correct=female   guess=male     name={u'g_index': -1.0, u'last_letter': 'e'}\n",
      "correct=female   guess=male     name={u'g_index': -1.0, u'last_letter': 'e'}\n",
      "correct=female   guess=male     name={u'g_index': -1.0, u'last_letter': 'e'}\n",
      "correct=female   guess=male     name={u'g_index': -1.0, u'last_letter': 'e'}\n",
      "correct=female   guess=male     name={u'g_index': -1.0, u'last_letter': 'e'}\n",
      "correct=female   guess=male     name={u'g_index': -1.0, u'last_letter': 'e'}\n",
      "correct=female   guess=male     name={u'g_index': -1.0, u'last_letter': 'e'}\n",
      "correct=female   guess=male     name={u'g_index': -1.0, u'last_letter': 'e'}\n",
      "correct=female   guess=male     name={u'g_index': -1.0, u'last_letter': 'e'}\n",
      "correct=female   guess=male     name={u'g_index': -1.0, u'last_letter': 'e'}\n",
      "correct=female   guess=male     name={u'g_index': -1.0, u'last_letter': 'e'}\n",
      "correct=female   guess=male     name={u'g_index': -1.0, u'last_letter': 'e'}\n",
      "correct=female   guess=male     name={u'g_index': -1.0, u'last_letter': 'e'}\n",
      "correct=female   guess=male     name={u'g_index': -1.0, u'last_letter': 'e'}\n",
      "correct=female   guess=male     name={u'g_index': -1.0, u'last_letter': 'e'}\n",
      "correct=female   guess=male     name={u'g_index': -1.0, u'last_letter': 'e'}\n",
      "correct=female   guess=male     name={u'g_index': -1.0, u'last_letter': 'e'}\n",
      "correct=female   guess=male     name={u'g_index': -1.0, u'last_letter': 'e'}\n",
      "correct=female   guess=male     name={u'g_index': -1.0, u'last_letter': 'e'}\n",
      "correct=female   guess=male     name={u'g_index': -1.0, u'last_letter': 'e'}\n",
      "correct=female   guess=male     name={u'g_index': -1.0, u'last_letter': 'e'}\n",
      "correct=female   guess=male     name={u'g_index': -1.0, u'last_letter': 'e'}\n",
      "correct=female   guess=male     name={u'g_index': -1.0, u'last_letter': 'e'}\n",
      "correct=female   guess=male     name={u'g_index': -1.0, u'last_letter': 'e'}\n",
      "correct=female   guess=male     name={u'g_index': -1.0, u'last_letter': 'e'}\n",
      "correct=female   guess=male     name={u'g_index': -1.0, u'last_letter': 'e'}\n",
      "correct=female   guess=male     name={u'g_index': -1.0, u'last_letter': 'e'}\n",
      "correct=female   guess=male     name={u'g_index': -1.0, u'last_letter': 'e'}\n",
      "correct=female   guess=male     name={u'g_index': -1.0, u'last_letter': 'e'}\n",
      "correct=female   guess=male     name={u'g_index': -1.0, u'last_letter': 'e'}\n",
      "correct=female   guess=male     name={u'g_index': -1.0, u'last_letter': 'e'}\n",
      "correct=female   guess=male     name={u'g_index': -1.0, u'last_letter': 'e'}\n",
      "correct=female   guess=male     name={u'g_index': -1.0, u'last_letter': 'e'}\n",
      "correct=female   guess=male     name={u'g_index': -1.0, u'last_letter': 'e'}\n",
      "correct=female   guess=male     name={u'g_index': -1.0, u'last_letter': 'e'}\n",
      "correct=female   guess=male     name={u'g_index': -1.0, u'last_letter': 'e'}\n",
      "correct=female   guess=male     name={u'g_index': -1.0, u'last_letter': 'e'}\n",
      "correct=female   guess=male     name={u'g_index': -1.0, u'last_letter': 'e'}\n",
      "correct=female   guess=male     name={u'g_index': -1.0, u'last_letter': 'e'}\n",
      "correct=female   guess=male     name={u'g_index': -1.0, u'last_letter': 'e'}\n",
      "correct=female   guess=male     name={u'g_index': -1.0, u'last_letter': 'e'}\n",
      "correct=female   guess=male     name={u'g_index': -1.0, u'last_letter': 'e'}\n",
      "correct=female   guess=male     name={u'g_index': -1.0, u'last_letter': 'e'}\n",
      "correct=female   guess=male     name={u'g_index': -1.0, u'last_letter': 'e'}\n",
      "correct=female   guess=male     name={u'g_index': -1.0, u'last_letter': 'e'}\n",
      "correct=female   guess=male     name={u'g_index': -1.0, u'last_letter': 'h'}\n",
      "correct=female   guess=male     name={u'g_index': -1.0, u'last_letter': 'h'}\n",
      "correct=female   guess=male     name={u'g_index': -1.0, u'last_letter': 'h'}\n",
      "correct=female   guess=male     name={u'g_index': -1.0, u'last_letter': 'h'}\n",
      "correct=female   guess=male     name={u'g_index': -1.0, u'last_letter': 'h'}\n",
      "correct=female   guess=male     name={u'g_index': -1.0, u'last_letter': 'h'}\n",
      "correct=female   guess=male     name={u'g_index': -1.0, u'last_letter': 'h'}\n",
      "correct=female   guess=male     name={u'g_index': -1.0, u'last_letter': 'h'}\n",
      "correct=female   guess=male     name={u'g_index': -1.0, u'last_letter': 'h'}\n",
      "correct=female   guess=male     name={u'g_index': -1.0, u'last_letter': 'h'}\n",
      "correct=female   guess=male     name={u'g_index': -1.0, u'last_letter': 'h'}\n",
      "correct=female   guess=male     name={u'g_index': -1.0, u'last_letter': 'h'}\n",
      "correct=female   guess=male     name={u'g_index': -1.0, u'last_letter': 'h'}\n",
      "correct=female   guess=male     name={u'g_index': -1.0, u'last_letter': 'h'}\n",
      "correct=female   guess=male     name={u'g_index': -1.0, u'last_letter': 'h'}\n",
      "correct=female   guess=male     name={u'g_index': -1.0, u'last_letter': 'h'}\n",
      "correct=female   guess=male     name={u'g_index': -1.0, u'last_letter': 'h'}\n",
      "correct=female   guess=male     name={u'g_index': -1.0, u'last_letter': 'h'}\n",
      "correct=female   guess=male     name={u'g_index': -1.0, u'last_letter': 'h'}\n",
      "correct=female   guess=male     name={u'g_index': -1.0, u'last_letter': 'h'}\n",
      "correct=female   guess=male     name={u'g_index': -1.0, u'last_letter': 'h'}\n",
      "correct=female   guess=male     name={u'g_index': -1.0, u'last_letter': 'h'}\n",
      "correct=female   guess=male     name={u'g_index': -1.0, u'last_letter': 'h'}\n",
      "correct=female   guess=male     name={u'g_index': -1.0, u'last_letter': 'h'}\n",
      "correct=female   guess=male     name={u'g_index': -1.0, u'last_letter': 'h'}\n",
      "correct=female   guess=male     name={u'g_index': -1.0, u'last_letter': 'h'}\n",
      "correct=female   guess=male     name={u'g_index': -1.0, u'last_letter': 'h'}\n",
      "correct=female   guess=male     name={u'g_index': -1.0, u'last_letter': 'h'}\n",
      "correct=female   guess=male     name={u'g_index': -1.0, u'last_letter': 'i'}\n",
      "correct=female   guess=male     name={u'g_index': -1.0, u'last_letter': 'i'}\n",
      "correct=female   guess=male     name={u'g_index': -1.0, u'last_letter': 'i'}\n",
      "correct=female   guess=male     name={u'g_index': -1.0, u'last_letter': 'i'}\n",
      "correct=female   guess=male     name={u'g_index': -1.0, u'last_letter': 'i'}\n",
      "correct=female   guess=male     name={u'g_index': -1.0, u'last_letter': 'i'}\n",
      "correct=female   guess=male     name={u'g_index': -1.0, u'last_letter': 'i'}\n",
      "correct=female   guess=male     name={u'g_index': -1.0, u'last_letter': 'i'}\n",
      "correct=female   guess=male     name={u'g_index': -1.0, u'last_letter': 'i'}\n",
      "correct=female   guess=male     name={u'g_index': -1.0, u'last_letter': 'i'}\n",
      "correct=female   guess=male     name={u'g_index': -1.0, u'last_letter': 'i'}\n",
      "correct=female   guess=male     name={u'g_index': -1.0, u'last_letter': 'i'}\n",
      "correct=female   guess=male     name={u'g_index': -1.0, u'last_letter': 'i'}\n",
      "correct=female   guess=male     name={u'g_index': -1.0, u'last_letter': 'i'}\n",
      "correct=female   guess=male     name={u'g_index': -1.0, u'last_letter': 'i'}\n",
      "correct=female   guess=male     name={u'g_index': -1.0, u'last_letter': 'i'}\n",
      "correct=female   guess=male     name={u'g_index': -1.0, u'last_letter': 'i'}\n",
      "correct=female   guess=male     name={u'g_index': -1.0, u'last_letter': 'i'}\n",
      "correct=female   guess=male     name={u'g_index': -1.0, u'last_letter': 'i'}\n",
      "correct=female   guess=male     name={u'g_index': -1.0, u'last_letter': 'i'}\n",
      "correct=female   guess=male     name={u'g_index': -1.0, u'last_letter': 'l'}\n",
      "correct=female   guess=male     name={u'g_index': -1.0, u'last_letter': 'l'}\n",
      "correct=female   guess=male     name={u'g_index': -1.0, u'last_letter': 'l'}\n",
      "correct=female   guess=male     name={u'g_index': -1.0, u'last_letter': 'l'}\n",
      "correct=female   guess=male     name={u'g_index': -1.0, u'last_letter': 'l'}\n",
      "correct=female   guess=male     name={u'g_index': -1.0, u'last_letter': 'l'}\n",
      "correct=female   guess=male     name={u'g_index': -1.0, u'last_letter': 'l'}\n",
      "correct=female   guess=male     name={u'g_index': -1.0, u'last_letter': 'l'}\n",
      "correct=female   guess=male     name={u'g_index': -1.0, u'last_letter': 'l'}\n",
      "correct=female   guess=male     name={u'g_index': -1.0, u'last_letter': 'n'}\n",
      "correct=female   guess=male     name={u'g_index': -1.0, u'last_letter': 'n'}\n",
      "correct=female   guess=male     name={u'g_index': -1.0, u'last_letter': 'n'}\n",
      "correct=female   guess=male     name={u'g_index': -1.0, u'last_letter': 'n'}\n",
      "correct=female   guess=male     name={u'g_index': -1.0, u'last_letter': 'n'}\n",
      "correct=female   guess=male     name={u'g_index': -1.0, u'last_letter': 'n'}\n",
      "correct=female   guess=male     name={u'g_index': -1.0, u'last_letter': 'n'}\n",
      "correct=female   guess=male     name={u'g_index': -1.0, u'last_letter': 'n'}\n",
      "correct=female   guess=male     name={u'g_index': -1.0, u'last_letter': 'n'}\n",
      "correct=female   guess=male     name={u'g_index': -1.0, u'last_letter': 'n'}\n",
      "correct=female   guess=male     name={u'g_index': -1.0, u'last_letter': 'n'}\n",
      "correct=female   guess=male     name={u'g_index': -1.0, u'last_letter': 'n'}\n",
      "correct=female   guess=male     name={u'g_index': -1.0, u'last_letter': 'n'}\n",
      "correct=female   guess=male     name={u'g_index': -1.0, u'last_letter': 'n'}\n",
      "correct=female   guess=male     name={u'g_index': -1.0, u'last_letter': 'n'}\n",
      "correct=female   guess=male     name={u'g_index': -1.0, u'last_letter': 'n'}\n",
      "correct=female   guess=male     name={u'g_index': -1.0, u'last_letter': 'n'}\n",
      "correct=female   guess=male     name={u'g_index': -1.0, u'last_letter': 'n'}\n",
      "correct=female   guess=male     name={u'g_index': -1.0, u'last_letter': 'n'}\n",
      "correct=female   guess=male     name={u'g_index': -1.0, u'last_letter': 'o'}\n",
      "correct=female   guess=male     name={u'g_index': -1.0, u'last_letter': 's'}\n",
      "correct=female   guess=male     name={u'g_index': -1.0, u'last_letter': 's'}\n",
      "correct=female   guess=male     name={u'g_index': -1.0, u'last_letter': 's'}\n",
      "correct=female   guess=male     name={u'g_index': -1.0, u'last_letter': 's'}\n",
      "correct=female   guess=male     name={u'g_index': -1.0, u'last_letter': 's'}\n",
      "correct=female   guess=male     name={u'g_index': -1.0, u'last_letter': 's'}\n",
      "correct=female   guess=male     name={u'g_index': -1.0, u'last_letter': 't'}\n",
      "correct=female   guess=male     name={u'g_index': -1.0, u'last_letter': 't'}\n",
      "correct=female   guess=male     name={u'g_index': -1.0, u'last_letter': 't'}\n",
      "correct=female   guess=male     name={u'g_index': -1.0, u'last_letter': 't'}\n",
      "correct=female   guess=male     name={u'g_index': -1.0, u'last_letter': 'u'}\n",
      "correct=female   guess=male     name={u'g_index': -1.0, u'last_letter': 'y'}\n",
      "correct=female   guess=male     name={u'g_index': -1.0, u'last_letter': 'y'}\n",
      "correct=female   guess=male     name={u'g_index': -1.0, u'last_letter': 'y'}\n",
      "correct=female   guess=male     name={u'g_index': -1.0, u'last_letter': 'y'}\n",
      "correct=female   guess=male     name={u'g_index': -1.0, u'last_letter': 'y'}\n",
      "correct=female   guess=male     name={u'g_index': -1.0, u'last_letter': 'y'}\n",
      "correct=female   guess=male     name={u'g_index': -1.0, u'last_letter': 'y'}\n",
      "correct=female   guess=male     name={u'g_index': -1.0, u'last_letter': 'y'}\n",
      "correct=female   guess=male     name={u'g_index': -1.0, u'last_letter': 'y'}\n",
      "correct=female   guess=male     name={u'g_index': -1.0, u'last_letter': 'y'}\n",
      "correct=female   guess=male     name={u'g_index': -1.0, u'last_letter': 'y'}\n",
      "correct=female   guess=male     name={u'g_index': -1.0, u'last_letter': 'y'}\n",
      "correct=female   guess=male     name={u'g_index': -1.0, u'last_letter': 'y'}\n",
      "correct=female   guess=male     name={u'g_index': -1.0, u'last_letter': 'y'}\n",
      "correct=female   guess=male     name={u'g_index': -1.0, u'last_letter': 'y'}\n",
      "correct=female   guess=male     name={u'g_index': -1.0, u'last_letter': 'y'}\n",
      "correct=female   guess=male     name={u'g_index': -1.0, u'last_letter': 'z'}\n",
      "correct=female   guess=male     name={u'g_index': -0.99885413085825603, u'last_letter': 'e'}\n",
      "correct=female   guess=male     name={u'g_index': -0.99615567678394901, u'last_letter': 'a'}\n",
      "correct=female   guess=male     name={u'g_index': -0.99398378789158148, u'last_letter': 'a'}\n",
      "correct=female   guess=male     name={u'g_index': -0.98957345182818246, u'last_letter': 'e'}\n",
      "correct=female   guess=male     name={u'g_index': -0.98937784522003036, u'last_letter': 'a'}\n",
      "correct=female   guess=male     name={u'g_index': -0.94666666666666666, u'last_letter': 'l'}\n",
      "correct=female   guess=male     name={u'g_index': -0.93359893758300128, u'last_letter': 'i'}\n",
      "correct=female   guess=male     name={u'g_index': -0.92556634304207119, u'last_letter': 'i'}\n",
      "correct=female   guess=male     name={u'g_index': -0.91871657754010694, u'last_letter': 'd'}\n",
      "correct=female   guess=male     name={u'g_index': -0.88816951147733958, u'last_letter': 'e'}\n",
      "correct=female   guess=male     name={u'g_index': -0.75605858854860186, u'last_letter': 'l'}\n",
      "correct=female   guess=male     name={u'g_index': -0.66101694915254239, u'last_letter': 'n'}\n",
      "correct=female   guess=male     name={u'g_index': -0.49117276166456492, u'last_letter': 'y'}\n",
      "correct=female   guess=male     name={u'g_index': -0.42348754448398579, u'last_letter': 'y'}\n",
      "correct=female   guess=male     name={u'g_index': -0.375, u'last_letter': 'y'}\n",
      "correct=female   guess=male     name={u'g_index': -0.2857142857142857, u'last_letter': 'i'}\n",
      "correct=female   guess=male     name={u'g_index': -0.21961067051189617, u'last_letter': 'n'}\n"
     ]
    }
   ],
   "source": [
    "## look at the errors\n",
    "errors = []\n",
    "for (name, tag) in dev_setX:\n",
    "    guess = nbclassifierX.classify(gender_featuresX(namesList2))\n",
    "    if guess != tag:\n",
    "        errors.append( (tag, guess, name) )\n",
    "        \n",
    "for (tag, guess, name) in sorted(errors): # doctest: +ELLIPSIS +NORMALIZE_WHITESPACE\n",
    "    print 'correct=%-8s guess=%-8s name=%-30s' % (tag, guess, name)        "
   ]
  },
  {
   "cell_type": "markdown",
   "metadata": {},
   "source": [
    "### Featureset 2: Add suffix2, last word is vowel"
   ]
  },
  {
   "cell_type": "code",
   "execution_count": 161,
   "metadata": {
    "collapsed": false
   },
   "outputs": [],
   "source": [
    "random.shuffle(namesList2) \n",
    "featuresetX2 = []\n",
    "for i in range(len(namesList2)):\n",
    "    features = gender_featuresX2(namesList2[i])\n",
    "    gender = namesList2[i][2]\n",
    "    row = (features, gender)\n",
    "    featuresetX2.append(row)"
   ]
  },
  {
   "cell_type": "code",
   "execution_count": 162,
   "metadata": {
    "collapsed": true
   },
   "outputs": [],
   "source": [
    "train_setX2 = featuresetX2[1000:]\n",
    "test_setX2 = featuresetX2[:1000]\n",
    "dev_setX2 = featuresetX2[1000:2000]"
   ]
  },
  {
   "cell_type": "code",
   "execution_count": 163,
   "metadata": {
    "collapsed": false
   },
   "outputs": [
    {
     "data": {
      "text/plain": [
       "(87860, 1000, 1000)"
      ]
     },
     "execution_count": 163,
     "metadata": {},
     "output_type": "execute_result"
    }
   ],
   "source": [
    "len(train_setX2), len(test_setX2), len(dev_setX2)"
   ]
  },
  {
   "cell_type": "code",
   "execution_count": 164,
   "metadata": {
    "collapsed": false
   },
   "outputs": [
    {
     "name": "stdout",
     "output_type": "stream",
     "text": [
      "0.972\n"
     ]
    }
   ],
   "source": [
    "nbclassifierX2 = nltk.NaiveBayesClassifier.train(train_setX2) \n",
    "print nltk.classify.accuracy(nbclassifierX2, dev_setX2)"
   ]
  },
  {
   "cell_type": "code",
   "execution_count": 165,
   "metadata": {
    "collapsed": false
   },
   "outputs": [
    {
     "name": "stdout",
     "output_type": "stream",
     "text": [
      "Most Informative Features\n",
      "                last_two = 'do'             male : female =    145.8 : 1.0\n",
      "                last_two = 'ck'             male : female =     92.8 : 1.0\n",
      "                last_two = 'rd'             male : female =     67.8 : 1.0\n",
      "                last_two = 'ph'             male : female =     67.5 : 1.0\n",
      "                last_two = 'no'             male : female =     56.4 : 1.0\n"
     ]
    }
   ],
   "source": [
    "nbclassifierX2.show_most_informative_features(5)"
   ]
  },
  {
   "cell_type": "code",
   "execution_count": 167,
   "metadata": {
    "collapsed": false
   },
   "outputs": [
    {
     "name": "stdout",
     "output_type": "stream",
     "text": [
      "correct=female   guess=male     name={u'g_index': -1.0, u'last_letter': 'a'}\n",
      "correct=female   guess=male     name={u'g_index': -1.0, u'last_letter': 'a'}\n",
      "correct=female   guess=male     name={u'g_index': -1.0, u'last_letter': 'a'}\n",
      "correct=female   guess=male     name={u'g_index': -1.0, u'last_letter': 'a'}\n",
      "correct=female   guess=male     name={u'g_index': -1.0, u'last_letter': 'a'}\n",
      "correct=female   guess=male     name={u'g_index': -1.0, u'last_letter': 'a'}\n",
      "correct=female   guess=male     name={u'g_index': -1.0, u'last_letter': 'a'}\n",
      "correct=female   guess=male     name={u'g_index': -1.0, u'last_letter': 'a'}\n",
      "correct=female   guess=male     name={u'g_index': -1.0, u'last_letter': 'a'}\n",
      "correct=female   guess=male     name={u'g_index': -1.0, u'last_letter': 'a'}\n",
      "correct=female   guess=male     name={u'g_index': -1.0, u'last_letter': 'a'}\n",
      "correct=female   guess=male     name={u'g_index': -1.0, u'last_letter': 'a'}\n",
      "correct=female   guess=male     name={u'g_index': -1.0, u'last_letter': 'a'}\n",
      "correct=female   guess=male     name={u'g_index': -1.0, u'last_letter': 'a'}\n",
      "correct=female   guess=male     name={u'g_index': -1.0, u'last_letter': 'a'}\n",
      "correct=female   guess=male     name={u'g_index': -1.0, u'last_letter': 'a'}\n",
      "correct=female   guess=male     name={u'g_index': -1.0, u'last_letter': 'a'}\n",
      "correct=female   guess=male     name={u'g_index': -1.0, u'last_letter': 'a'}\n",
      "correct=female   guess=male     name={u'g_index': -1.0, u'last_letter': 'a'}\n",
      "correct=female   guess=male     name={u'g_index': -1.0, u'last_letter': 'a'}\n",
      "correct=female   guess=male     name={u'g_index': -1.0, u'last_letter': 'a'}\n",
      "correct=female   guess=male     name={u'g_index': -1.0, u'last_letter': 'a'}\n",
      "correct=female   guess=male     name={u'g_index': -1.0, u'last_letter': 'a'}\n",
      "correct=female   guess=male     name={u'g_index': -1.0, u'last_letter': 'a'}\n",
      "correct=female   guess=male     name={u'g_index': -1.0, u'last_letter': 'a'}\n",
      "correct=female   guess=male     name={u'g_index': -1.0, u'last_letter': 'a'}\n",
      "correct=female   guess=male     name={u'g_index': -1.0, u'last_letter': 'a'}\n",
      "correct=female   guess=male     name={u'g_index': -1.0, u'last_letter': 'a'}\n",
      "correct=female   guess=male     name={u'g_index': -1.0, u'last_letter': 'a'}\n",
      "correct=female   guess=male     name={u'g_index': -1.0, u'last_letter': 'a'}\n",
      "correct=female   guess=male     name={u'g_index': -1.0, u'last_letter': 'a'}\n",
      "correct=female   guess=male     name={u'g_index': -1.0, u'last_letter': 'a'}\n",
      "correct=female   guess=male     name={u'g_index': -1.0, u'last_letter': 'a'}\n",
      "correct=female   guess=male     name={u'g_index': -1.0, u'last_letter': 'a'}\n",
      "correct=female   guess=male     name={u'g_index': -1.0, u'last_letter': 'a'}\n",
      "correct=female   guess=male     name={u'g_index': -1.0, u'last_letter': 'a'}\n",
      "correct=female   guess=male     name={u'g_index': -1.0, u'last_letter': 'a'}\n",
      "correct=female   guess=male     name={u'g_index': -1.0, u'last_letter': 'a'}\n",
      "correct=female   guess=male     name={u'g_index': -1.0, u'last_letter': 'a'}\n",
      "correct=female   guess=male     name={u'g_index': -1.0, u'last_letter': 'a'}\n",
      "correct=female   guess=male     name={u'g_index': -1.0, u'last_letter': 'a'}\n",
      "correct=female   guess=male     name={u'g_index': -1.0, u'last_letter': 'a'}\n",
      "correct=female   guess=male     name={u'g_index': -1.0, u'last_letter': 'a'}\n",
      "correct=female   guess=male     name={u'g_index': -1.0, u'last_letter': 'a'}\n",
      "correct=female   guess=male     name={u'g_index': -1.0, u'last_letter': 'a'}\n",
      "correct=female   guess=male     name={u'g_index': -1.0, u'last_letter': 'a'}\n",
      "correct=female   guess=male     name={u'g_index': -1.0, u'last_letter': 'a'}\n",
      "correct=female   guess=male     name={u'g_index': -1.0, u'last_letter': 'a'}\n",
      "correct=female   guess=male     name={u'g_index': -1.0, u'last_letter': 'a'}\n",
      "correct=female   guess=male     name={u'g_index': -1.0, u'last_letter': 'a'}\n",
      "correct=female   guess=male     name={u'g_index': -1.0, u'last_letter': 'a'}\n",
      "correct=female   guess=male     name={u'g_index': -1.0, u'last_letter': 'a'}\n",
      "correct=female   guess=male     name={u'g_index': -1.0, u'last_letter': 'a'}\n",
      "correct=female   guess=male     name={u'g_index': -1.0, u'last_letter': 'a'}\n",
      "correct=female   guess=male     name={u'g_index': -1.0, u'last_letter': 'a'}\n",
      "correct=female   guess=male     name={u'g_index': -1.0, u'last_letter': 'a'}\n",
      "correct=female   guess=male     name={u'g_index': -1.0, u'last_letter': 'a'}\n",
      "correct=female   guess=male     name={u'g_index': -1.0, u'last_letter': 'a'}\n",
      "correct=female   guess=male     name={u'g_index': -1.0, u'last_letter': 'a'}\n",
      "correct=female   guess=male     name={u'g_index': -1.0, u'last_letter': 'a'}\n",
      "correct=female   guess=male     name={u'g_index': -1.0, u'last_letter': 'a'}\n",
      "correct=female   guess=male     name={u'g_index': -1.0, u'last_letter': 'a'}\n",
      "correct=female   guess=male     name={u'g_index': -1.0, u'last_letter': 'a'}\n",
      "correct=female   guess=male     name={u'g_index': -1.0, u'last_letter': 'a'}\n",
      "correct=female   guess=male     name={u'g_index': -1.0, u'last_letter': 'a'}\n",
      "correct=female   guess=male     name={u'g_index': -1.0, u'last_letter': 'a'}\n",
      "correct=female   guess=male     name={u'g_index': -1.0, u'last_letter': 'a'}\n",
      "correct=female   guess=male     name={u'g_index': -1.0, u'last_letter': 'a'}\n",
      "correct=female   guess=male     name={u'g_index': -1.0, u'last_letter': 'a'}\n",
      "correct=female   guess=male     name={u'g_index': -1.0, u'last_letter': 'a'}\n",
      "correct=female   guess=male     name={u'g_index': -1.0, u'last_letter': 'a'}\n",
      "correct=female   guess=male     name={u'g_index': -1.0, u'last_letter': 'a'}\n",
      "correct=female   guess=male     name={u'g_index': -1.0, u'last_letter': 'a'}\n",
      "correct=female   guess=male     name={u'g_index': -1.0, u'last_letter': 'a'}\n",
      "correct=female   guess=male     name={u'g_index': -1.0, u'last_letter': 'a'}\n",
      "correct=female   guess=male     name={u'g_index': -1.0, u'last_letter': 'a'}\n",
      "correct=female   guess=male     name={u'g_index': -1.0, u'last_letter': 'a'}\n",
      "correct=female   guess=male     name={u'g_index': -1.0, u'last_letter': 'a'}\n",
      "correct=female   guess=male     name={u'g_index': -1.0, u'last_letter': 'a'}\n",
      "correct=female   guess=male     name={u'g_index': -1.0, u'last_letter': 'a'}\n",
      "correct=female   guess=male     name={u'g_index': -1.0, u'last_letter': 'a'}\n",
      "correct=female   guess=male     name={u'g_index': -1.0, u'last_letter': 'a'}\n",
      "correct=female   guess=male     name={u'g_index': -1.0, u'last_letter': 'a'}\n",
      "correct=female   guess=male     name={u'g_index': -1.0, u'last_letter': 'a'}\n",
      "correct=female   guess=male     name={u'g_index': -1.0, u'last_letter': 'a'}\n",
      "correct=female   guess=male     name={u'g_index': -1.0, u'last_letter': 'a'}\n",
      "correct=female   guess=male     name={u'g_index': -1.0, u'last_letter': 'a'}\n",
      "correct=female   guess=male     name={u'g_index': -1.0, u'last_letter': 'a'}\n",
      "correct=female   guess=male     name={u'g_index': -1.0, u'last_letter': 'a'}\n",
      "correct=female   guess=male     name={u'g_index': -1.0, u'last_letter': 'a'}\n",
      "correct=female   guess=male     name={u'g_index': -1.0, u'last_letter': 'a'}\n",
      "correct=female   guess=male     name={u'g_index': -1.0, u'last_letter': 'a'}\n",
      "correct=female   guess=male     name={u'g_index': -1.0, u'last_letter': 'a'}\n",
      "correct=female   guess=male     name={u'g_index': -1.0, u'last_letter': 'a'}\n",
      "correct=female   guess=male     name={u'g_index': -1.0, u'last_letter': 'a'}\n",
      "correct=female   guess=male     name={u'g_index': -1.0, u'last_letter': 'a'}\n",
      "correct=female   guess=male     name={u'g_index': -1.0, u'last_letter': 'a'}\n",
      "correct=female   guess=male     name={u'g_index': -1.0, u'last_letter': 'a'}\n",
      "correct=female   guess=male     name={u'g_index': -1.0, u'last_letter': 'a'}\n",
      "correct=female   guess=male     name={u'g_index': -1.0, u'last_letter': 'a'}\n",
      "correct=female   guess=male     name={u'g_index': -1.0, u'last_letter': 'a'}\n",
      "correct=female   guess=male     name={u'g_index': -1.0, u'last_letter': 'a'}\n",
      "correct=female   guess=male     name={u'g_index': -1.0, u'last_letter': 'a'}\n",
      "correct=female   guess=male     name={u'g_index': -1.0, u'last_letter': 'a'}\n",
      "correct=female   guess=male     name={u'g_index': -1.0, u'last_letter': 'a'}\n",
      "correct=female   guess=male     name={u'g_index': -1.0, u'last_letter': 'a'}\n",
      "correct=female   guess=male     name={u'g_index': -1.0, u'last_letter': 'a'}\n",
      "correct=female   guess=male     name={u'g_index': -1.0, u'last_letter': 'a'}\n",
      "correct=female   guess=male     name={u'g_index': -1.0, u'last_letter': 'a'}\n",
      "correct=female   guess=male     name={u'g_index': -1.0, u'last_letter': 'a'}\n",
      "correct=female   guess=male     name={u'g_index': -1.0, u'last_letter': 'a'}\n",
      "correct=female   guess=male     name={u'g_index': -1.0, u'last_letter': 'a'}\n",
      "correct=female   guess=male     name={u'g_index': -1.0, u'last_letter': 'a'}\n",
      "correct=female   guess=male     name={u'g_index': -1.0, u'last_letter': 'a'}\n",
      "correct=female   guess=male     name={u'g_index': -1.0, u'last_letter': 'a'}\n",
      "correct=female   guess=male     name={u'g_index': -1.0, u'last_letter': 'a'}\n",
      "correct=female   guess=male     name={u'g_index': -1.0, u'last_letter': 'a'}\n",
      "correct=female   guess=male     name={u'g_index': -1.0, u'last_letter': 'a'}\n",
      "correct=female   guess=male     name={u'g_index': -1.0, u'last_letter': 'a'}\n",
      "correct=female   guess=male     name={u'g_index': -1.0, u'last_letter': 'a'}\n",
      "correct=female   guess=male     name={u'g_index': -1.0, u'last_letter': 'a'}\n",
      "correct=female   guess=male     name={u'g_index': -1.0, u'last_letter': 'a'}\n",
      "correct=female   guess=male     name={u'g_index': -1.0, u'last_letter': 'a'}\n",
      "correct=female   guess=male     name={u'g_index': -1.0, u'last_letter': 'a'}\n",
      "correct=female   guess=male     name={u'g_index': -1.0, u'last_letter': 'a'}\n",
      "correct=female   guess=male     name={u'g_index': -1.0, u'last_letter': 'a'}\n",
      "correct=female   guess=male     name={u'g_index': -1.0, u'last_letter': 'a'}\n",
      "correct=female   guess=male     name={u'g_index': -1.0, u'last_letter': 'a'}\n",
      "correct=female   guess=male     name={u'g_index': -1.0, u'last_letter': 'a'}\n",
      "correct=female   guess=male     name={u'g_index': -1.0, u'last_letter': 'a'}\n",
      "correct=female   guess=male     name={u'g_index': -1.0, u'last_letter': 'a'}\n",
      "correct=female   guess=male     name={u'g_index': -1.0, u'last_letter': 'a'}\n",
      "correct=female   guess=male     name={u'g_index': -1.0, u'last_letter': 'a'}\n",
      "correct=female   guess=male     name={u'g_index': -1.0, u'last_letter': 'a'}\n",
      "correct=female   guess=male     name={u'g_index': -1.0, u'last_letter': 'a'}\n",
      "correct=female   guess=male     name={u'g_index': -1.0, u'last_letter': 'a'}\n",
      "correct=female   guess=male     name={u'g_index': -1.0, u'last_letter': 'a'}\n",
      "correct=female   guess=male     name={u'g_index': -1.0, u'last_letter': 'a'}\n",
      "correct=female   guess=male     name={u'g_index': -1.0, u'last_letter': 'a'}\n",
      "correct=female   guess=male     name={u'g_index': -1.0, u'last_letter': 'a'}\n",
      "correct=female   guess=male     name={u'g_index': -1.0, u'last_letter': 'a'}\n",
      "correct=female   guess=male     name={u'g_index': -1.0, u'last_letter': 'a'}\n",
      "correct=female   guess=male     name={u'g_index': -1.0, u'last_letter': 'a'}\n",
      "correct=female   guess=male     name={u'g_index': -1.0, u'last_letter': 'a'}\n",
      "correct=female   guess=male     name={u'g_index': -1.0, u'last_letter': 'a'}\n",
      "correct=female   guess=male     name={u'g_index': -1.0, u'last_letter': 'a'}\n",
      "correct=female   guess=male     name={u'g_index': -1.0, u'last_letter': 'a'}\n",
      "correct=female   guess=male     name={u'g_index': -1.0, u'last_letter': 'a'}\n",
      "correct=female   guess=male     name={u'g_index': -1.0, u'last_letter': 'a'}\n",
      "correct=female   guess=male     name={u'g_index': -1.0, u'last_letter': 'e'}\n",
      "correct=female   guess=male     name={u'g_index': -1.0, u'last_letter': 'e'}\n",
      "correct=female   guess=male     name={u'g_index': -1.0, u'last_letter': 'e'}\n",
      "correct=female   guess=male     name={u'g_index': -1.0, u'last_letter': 'e'}\n",
      "correct=female   guess=male     name={u'g_index': -1.0, u'last_letter': 'e'}\n",
      "correct=female   guess=male     name={u'g_index': -1.0, u'last_letter': 'e'}\n",
      "correct=female   guess=male     name={u'g_index': -1.0, u'last_letter': 'e'}\n",
      "correct=female   guess=male     name={u'g_index': -1.0, u'last_letter': 'e'}\n",
      "correct=female   guess=male     name={u'g_index': -1.0, u'last_letter': 'e'}\n",
      "correct=female   guess=male     name={u'g_index': -1.0, u'last_letter': 'e'}\n",
      "correct=female   guess=male     name={u'g_index': -1.0, u'last_letter': 'e'}\n",
      "correct=female   guess=male     name={u'g_index': -1.0, u'last_letter': 'e'}\n",
      "correct=female   guess=male     name={u'g_index': -1.0, u'last_letter': 'e'}\n",
      "correct=female   guess=male     name={u'g_index': -1.0, u'last_letter': 'e'}\n",
      "correct=female   guess=male     name={u'g_index': -1.0, u'last_letter': 'e'}\n",
      "correct=female   guess=male     name={u'g_index': -1.0, u'last_letter': 'e'}\n",
      "correct=female   guess=male     name={u'g_index': -1.0, u'last_letter': 'e'}\n",
      "correct=female   guess=male     name={u'g_index': -1.0, u'last_letter': 'e'}\n",
      "correct=female   guess=male     name={u'g_index': -1.0, u'last_letter': 'e'}\n",
      "correct=female   guess=male     name={u'g_index': -1.0, u'last_letter': 'e'}\n",
      "correct=female   guess=male     name={u'g_index': -1.0, u'last_letter': 'e'}\n",
      "correct=female   guess=male     name={u'g_index': -1.0, u'last_letter': 'e'}\n",
      "correct=female   guess=male     name={u'g_index': -1.0, u'last_letter': 'e'}\n",
      "correct=female   guess=male     name={u'g_index': -1.0, u'last_letter': 'e'}\n",
      "correct=female   guess=male     name={u'g_index': -1.0, u'last_letter': 'e'}\n",
      "correct=female   guess=male     name={u'g_index': -1.0, u'last_letter': 'e'}\n",
      "correct=female   guess=male     name={u'g_index': -1.0, u'last_letter': 'e'}\n",
      "correct=female   guess=male     name={u'g_index': -1.0, u'last_letter': 'e'}\n",
      "correct=female   guess=male     name={u'g_index': -1.0, u'last_letter': 'e'}\n",
      "correct=female   guess=male     name={u'g_index': -1.0, u'last_letter': 'e'}\n",
      "correct=female   guess=male     name={u'g_index': -1.0, u'last_letter': 'e'}\n",
      "correct=female   guess=male     name={u'g_index': -1.0, u'last_letter': 'e'}\n",
      "correct=female   guess=male     name={u'g_index': -1.0, u'last_letter': 'e'}\n",
      "correct=female   guess=male     name={u'g_index': -1.0, u'last_letter': 'e'}\n",
      "correct=female   guess=male     name={u'g_index': -1.0, u'last_letter': 'e'}\n",
      "correct=female   guess=male     name={u'g_index': -1.0, u'last_letter': 'e'}\n",
      "correct=female   guess=male     name={u'g_index': -1.0, u'last_letter': 'e'}\n",
      "correct=female   guess=male     name={u'g_index': -1.0, u'last_letter': 'e'}\n",
      "correct=female   guess=male     name={u'g_index': -1.0, u'last_letter': 'e'}\n",
      "correct=female   guess=male     name={u'g_index': -1.0, u'last_letter': 'e'}\n",
      "correct=female   guess=male     name={u'g_index': -1.0, u'last_letter': 'e'}\n",
      "correct=female   guess=male     name={u'g_index': -1.0, u'last_letter': 'e'}\n",
      "correct=female   guess=male     name={u'g_index': -1.0, u'last_letter': 'e'}\n",
      "correct=female   guess=male     name={u'g_index': -1.0, u'last_letter': 'e'}\n",
      "correct=female   guess=male     name={u'g_index': -1.0, u'last_letter': 'e'}\n",
      "correct=female   guess=male     name={u'g_index': -1.0, u'last_letter': 'e'}\n",
      "correct=female   guess=male     name={u'g_index': -1.0, u'last_letter': 'e'}\n",
      "correct=female   guess=male     name={u'g_index': -1.0, u'last_letter': 'e'}\n",
      "correct=female   guess=male     name={u'g_index': -1.0, u'last_letter': 'h'}\n",
      "correct=female   guess=male     name={u'g_index': -1.0, u'last_letter': 'h'}\n",
      "correct=female   guess=male     name={u'g_index': -1.0, u'last_letter': 'h'}\n",
      "correct=female   guess=male     name={u'g_index': -1.0, u'last_letter': 'h'}\n",
      "correct=female   guess=male     name={u'g_index': -1.0, u'last_letter': 'h'}\n",
      "correct=female   guess=male     name={u'g_index': -1.0, u'last_letter': 'h'}\n",
      "correct=female   guess=male     name={u'g_index': -1.0, u'last_letter': 'h'}\n",
      "correct=female   guess=male     name={u'g_index': -1.0, u'last_letter': 'h'}\n",
      "correct=female   guess=male     name={u'g_index': -1.0, u'last_letter': 'h'}\n",
      "correct=female   guess=male     name={u'g_index': -1.0, u'last_letter': 'h'}\n",
      "correct=female   guess=male     name={u'g_index': -1.0, u'last_letter': 'h'}\n",
      "correct=female   guess=male     name={u'g_index': -1.0, u'last_letter': 'h'}\n",
      "correct=female   guess=male     name={u'g_index': -1.0, u'last_letter': 'h'}\n",
      "correct=female   guess=male     name={u'g_index': -1.0, u'last_letter': 'h'}\n",
      "correct=female   guess=male     name={u'g_index': -1.0, u'last_letter': 'h'}\n",
      "correct=female   guess=male     name={u'g_index': -1.0, u'last_letter': 'h'}\n",
      "correct=female   guess=male     name={u'g_index': -1.0, u'last_letter': 'h'}\n",
      "correct=female   guess=male     name={u'g_index': -1.0, u'last_letter': 'h'}\n",
      "correct=female   guess=male     name={u'g_index': -1.0, u'last_letter': 'h'}\n",
      "correct=female   guess=male     name={u'g_index': -1.0, u'last_letter': 'h'}\n",
      "correct=female   guess=male     name={u'g_index': -1.0, u'last_letter': 'h'}\n",
      "correct=female   guess=male     name={u'g_index': -1.0, u'last_letter': 'h'}\n",
      "correct=female   guess=male     name={u'g_index': -1.0, u'last_letter': 'h'}\n",
      "correct=female   guess=male     name={u'g_index': -1.0, u'last_letter': 'h'}\n",
      "correct=female   guess=male     name={u'g_index': -1.0, u'last_letter': 'h'}\n",
      "correct=female   guess=male     name={u'g_index': -1.0, u'last_letter': 'h'}\n",
      "correct=female   guess=male     name={u'g_index': -1.0, u'last_letter': 'h'}\n",
      "correct=female   guess=male     name={u'g_index': -1.0, u'last_letter': 'h'}\n",
      "correct=female   guess=male     name={u'g_index': -1.0, u'last_letter': 'i'}\n",
      "correct=female   guess=male     name={u'g_index': -1.0, u'last_letter': 'i'}\n",
      "correct=female   guess=male     name={u'g_index': -1.0, u'last_letter': 'i'}\n",
      "correct=female   guess=male     name={u'g_index': -1.0, u'last_letter': 'i'}\n",
      "correct=female   guess=male     name={u'g_index': -1.0, u'last_letter': 'i'}\n",
      "correct=female   guess=male     name={u'g_index': -1.0, u'last_letter': 'i'}\n",
      "correct=female   guess=male     name={u'g_index': -1.0, u'last_letter': 'i'}\n",
      "correct=female   guess=male     name={u'g_index': -1.0, u'last_letter': 'i'}\n",
      "correct=female   guess=male     name={u'g_index': -1.0, u'last_letter': 'i'}\n",
      "correct=female   guess=male     name={u'g_index': -1.0, u'last_letter': 'i'}\n",
      "correct=female   guess=male     name={u'g_index': -1.0, u'last_letter': 'i'}\n",
      "correct=female   guess=male     name={u'g_index': -1.0, u'last_letter': 'i'}\n",
      "correct=female   guess=male     name={u'g_index': -1.0, u'last_letter': 'i'}\n",
      "correct=female   guess=male     name={u'g_index': -1.0, u'last_letter': 'i'}\n",
      "correct=female   guess=male     name={u'g_index': -1.0, u'last_letter': 'i'}\n",
      "correct=female   guess=male     name={u'g_index': -1.0, u'last_letter': 'i'}\n",
      "correct=female   guess=male     name={u'g_index': -1.0, u'last_letter': 'i'}\n",
      "correct=female   guess=male     name={u'g_index': -1.0, u'last_letter': 'i'}\n",
      "correct=female   guess=male     name={u'g_index': -1.0, u'last_letter': 'i'}\n",
      "correct=female   guess=male     name={u'g_index': -1.0, u'last_letter': 'i'}\n",
      "correct=female   guess=male     name={u'g_index': -1.0, u'last_letter': 'l'}\n",
      "correct=female   guess=male     name={u'g_index': -1.0, u'last_letter': 'l'}\n",
      "correct=female   guess=male     name={u'g_index': -1.0, u'last_letter': 'l'}\n",
      "correct=female   guess=male     name={u'g_index': -1.0, u'last_letter': 'l'}\n",
      "correct=female   guess=male     name={u'g_index': -1.0, u'last_letter': 'l'}\n",
      "correct=female   guess=male     name={u'g_index': -1.0, u'last_letter': 'l'}\n",
      "correct=female   guess=male     name={u'g_index': -1.0, u'last_letter': 'l'}\n",
      "correct=female   guess=male     name={u'g_index': -1.0, u'last_letter': 'l'}\n",
      "correct=female   guess=male     name={u'g_index': -1.0, u'last_letter': 'l'}\n",
      "correct=female   guess=male     name={u'g_index': -1.0, u'last_letter': 'n'}\n",
      "correct=female   guess=male     name={u'g_index': -1.0, u'last_letter': 'n'}\n",
      "correct=female   guess=male     name={u'g_index': -1.0, u'last_letter': 'n'}\n",
      "correct=female   guess=male     name={u'g_index': -1.0, u'last_letter': 'n'}\n",
      "correct=female   guess=male     name={u'g_index': -1.0, u'last_letter': 'n'}\n",
      "correct=female   guess=male     name={u'g_index': -1.0, u'last_letter': 'n'}\n",
      "correct=female   guess=male     name={u'g_index': -1.0, u'last_letter': 'n'}\n",
      "correct=female   guess=male     name={u'g_index': -1.0, u'last_letter': 'n'}\n",
      "correct=female   guess=male     name={u'g_index': -1.0, u'last_letter': 'n'}\n",
      "correct=female   guess=male     name={u'g_index': -1.0, u'last_letter': 'n'}\n",
      "correct=female   guess=male     name={u'g_index': -1.0, u'last_letter': 'n'}\n",
      "correct=female   guess=male     name={u'g_index': -1.0, u'last_letter': 'n'}\n",
      "correct=female   guess=male     name={u'g_index': -1.0, u'last_letter': 'n'}\n",
      "correct=female   guess=male     name={u'g_index': -1.0, u'last_letter': 'n'}\n",
      "correct=female   guess=male     name={u'g_index': -1.0, u'last_letter': 'n'}\n",
      "correct=female   guess=male     name={u'g_index': -1.0, u'last_letter': 'n'}\n",
      "correct=female   guess=male     name={u'g_index': -1.0, u'last_letter': 'n'}\n",
      "correct=female   guess=male     name={u'g_index': -1.0, u'last_letter': 'n'}\n",
      "correct=female   guess=male     name={u'g_index': -1.0, u'last_letter': 'n'}\n",
      "correct=female   guess=male     name={u'g_index': -1.0, u'last_letter': 'o'}\n",
      "correct=female   guess=male     name={u'g_index': -1.0, u'last_letter': 's'}\n",
      "correct=female   guess=male     name={u'g_index': -1.0, u'last_letter': 's'}\n",
      "correct=female   guess=male     name={u'g_index': -1.0, u'last_letter': 's'}\n",
      "correct=female   guess=male     name={u'g_index': -1.0, u'last_letter': 's'}\n",
      "correct=female   guess=male     name={u'g_index': -1.0, u'last_letter': 's'}\n",
      "correct=female   guess=male     name={u'g_index': -1.0, u'last_letter': 's'}\n",
      "correct=female   guess=male     name={u'g_index': -1.0, u'last_letter': 't'}\n",
      "correct=female   guess=male     name={u'g_index': -1.0, u'last_letter': 't'}\n",
      "correct=female   guess=male     name={u'g_index': -1.0, u'last_letter': 't'}\n",
      "correct=female   guess=male     name={u'g_index': -1.0, u'last_letter': 't'}\n",
      "correct=female   guess=male     name={u'g_index': -1.0, u'last_letter': 'u'}\n",
      "correct=female   guess=male     name={u'g_index': -1.0, u'last_letter': 'y'}\n",
      "correct=female   guess=male     name={u'g_index': -1.0, u'last_letter': 'y'}\n",
      "correct=female   guess=male     name={u'g_index': -1.0, u'last_letter': 'y'}\n",
      "correct=female   guess=male     name={u'g_index': -1.0, u'last_letter': 'y'}\n",
      "correct=female   guess=male     name={u'g_index': -1.0, u'last_letter': 'y'}\n",
      "correct=female   guess=male     name={u'g_index': -1.0, u'last_letter': 'y'}\n",
      "correct=female   guess=male     name={u'g_index': -1.0, u'last_letter': 'y'}\n",
      "correct=female   guess=male     name={u'g_index': -1.0, u'last_letter': 'y'}\n",
      "correct=female   guess=male     name={u'g_index': -1.0, u'last_letter': 'y'}\n",
      "correct=female   guess=male     name={u'g_index': -1.0, u'last_letter': 'y'}\n",
      "correct=female   guess=male     name={u'g_index': -1.0, u'last_letter': 'y'}\n",
      "correct=female   guess=male     name={u'g_index': -1.0, u'last_letter': 'y'}\n",
      "correct=female   guess=male     name={u'g_index': -1.0, u'last_letter': 'y'}\n",
      "correct=female   guess=male     name={u'g_index': -1.0, u'last_letter': 'y'}\n",
      "correct=female   guess=male     name={u'g_index': -1.0, u'last_letter': 'y'}\n",
      "correct=female   guess=male     name={u'g_index': -1.0, u'last_letter': 'y'}\n",
      "correct=female   guess=male     name={u'g_index': -1.0, u'last_letter': 'z'}\n",
      "correct=female   guess=male     name={u'g_index': -0.99885413085825603, u'last_letter': 'e'}\n",
      "correct=female   guess=male     name={u'g_index': -0.99615567678394901, u'last_letter': 'a'}\n",
      "correct=female   guess=male     name={u'g_index': -0.99398378789158148, u'last_letter': 'a'}\n",
      "correct=female   guess=male     name={u'g_index': -0.98957345182818246, u'last_letter': 'e'}\n",
      "correct=female   guess=male     name={u'g_index': -0.98937784522003036, u'last_letter': 'a'}\n",
      "correct=female   guess=male     name={u'g_index': -0.94666666666666666, u'last_letter': 'l'}\n",
      "correct=female   guess=male     name={u'g_index': -0.93359893758300128, u'last_letter': 'i'}\n",
      "correct=female   guess=male     name={u'g_index': -0.92556634304207119, u'last_letter': 'i'}\n",
      "correct=female   guess=male     name={u'g_index': -0.91871657754010694, u'last_letter': 'd'}\n",
      "correct=female   guess=male     name={u'g_index': -0.88816951147733958, u'last_letter': 'e'}\n",
      "correct=female   guess=male     name={u'g_index': -0.75605858854860186, u'last_letter': 'l'}\n",
      "correct=female   guess=male     name={u'g_index': -0.66101694915254239, u'last_letter': 'n'}\n",
      "correct=female   guess=male     name={u'g_index': -0.49117276166456492, u'last_letter': 'y'}\n",
      "correct=female   guess=male     name={u'g_index': -0.42348754448398579, u'last_letter': 'y'}\n",
      "correct=female   guess=male     name={u'g_index': -0.375, u'last_letter': 'y'}\n",
      "correct=female   guess=male     name={u'g_index': -0.2857142857142857, u'last_letter': 'i'}\n",
      "correct=female   guess=male     name={u'g_index': -0.21961067051189617, u'last_letter': 'n'}\n"
     ]
    }
   ],
   "source": [
    "## look at the errors\n",
    "errors = []\n",
    "for (name, tag) in dev_setX:\n",
    "    guess = nbclassifierX2.classify(gender_featuresX2(namesList2))\n",
    "    if guess != tag:\n",
    "        errors.append( (tag, guess, name) )\n",
    "        \n",
    "for (tag, guess, name) in sorted(errors): # doctest: +ELLIPSIS +NORMALIZE_WHITESPACE\n",
    "    print 'correct=%-8s guess=%-8s name=%-30s' % (tag, guess, name)        "
   ]
  },
  {
   "cell_type": "markdown",
   "metadata": {},
   "source": [
    "### Featureset 3: Remove gender index from featureset 2"
   ]
  },
  {
   "cell_type": "code",
   "execution_count": 171,
   "metadata": {
    "collapsed": true
   },
   "outputs": [],
   "source": [
    "## code is different to prepare featureset for our gender-indexed data from Social Security (namesList2); requires different approach\n",
    "random.shuffle(namesList2) \n",
    "featuresetX3 = []\n",
    "for i in range(len(namesList2)):\n",
    "    features = gender_featuresX3(namesList2[i])\n",
    "    gender = namesList2[i][2]\n",
    "    row = (features, gender)\n",
    "    featuresetX3.append(row)"
   ]
  },
  {
   "cell_type": "code",
   "execution_count": 172,
   "metadata": {
    "collapsed": true
   },
   "outputs": [],
   "source": [
    "## featureset is copied over here and train, dev and test sets selected on our SS names\n",
    "train_setX3 = featuresetX3[1000:]\n",
    "test_setX3 = featuresetX3[:1000]\n",
    "dev_setX3 = featuresetX3[1000:2000]"
   ]
  },
  {
   "cell_type": "code",
   "execution_count": 173,
   "metadata": {
    "collapsed": false
   },
   "outputs": [
    {
     "name": "stdout",
     "output_type": "stream",
     "text": [
      "0.797\n"
     ]
    }
   ],
   "source": [
    "nbclassifierX3 = nltk.NaiveBayesClassifier.train(train_setX3) \n",
    "print nltk.classify.accuracy(nbclassifierX3, dev_setX3)"
   ]
  },
  {
   "cell_type": "code",
   "execution_count": 175,
   "metadata": {
    "collapsed": false
   },
   "outputs": [
    {
     "name": "stdout",
     "output_type": "stream",
     "text": [
      "Most Informative Features\n",
      "                last_two = 'do'             male : female =    147.9 : 1.0\n",
      "                last_two = 'ck'             male : female =     93.9 : 1.0\n",
      "                last_two = 'rd'             male : female =     68.3 : 1.0\n",
      "                last_two = 'ph'             male : female =     67.5 : 1.0\n",
      "                last_two = 'no'             male : female =     56.4 : 1.0\n"
     ]
    }
   ],
   "source": [
    "nbclassifierX3.show_most_informative_features(5)"
   ]
  },
  {
   "cell_type": "code",
   "execution_count": 177,
   "metadata": {
    "collapsed": false
   },
   "outputs": [
    {
     "name": "stdout",
     "output_type": "stream",
     "text": [
      "correct=female   guess=male     name={u'g_index': -1.0, u'last_letter': 'a'}\n",
      "correct=female   guess=male     name={u'g_index': -1.0, u'last_letter': 'a'}\n",
      "correct=female   guess=male     name={u'g_index': -1.0, u'last_letter': 'a'}\n",
      "correct=female   guess=male     name={u'g_index': -1.0, u'last_letter': 'a'}\n",
      "correct=female   guess=male     name={u'g_index': -1.0, u'last_letter': 'a'}\n",
      "correct=female   guess=male     name={u'g_index': -1.0, u'last_letter': 'a'}\n",
      "correct=female   guess=male     name={u'g_index': -1.0, u'last_letter': 'a'}\n",
      "correct=female   guess=male     name={u'g_index': -1.0, u'last_letter': 'a'}\n",
      "correct=female   guess=male     name={u'g_index': -1.0, u'last_letter': 'a'}\n",
      "correct=female   guess=male     name={u'g_index': -1.0, u'last_letter': 'a'}\n",
      "correct=female   guess=male     name={u'g_index': -1.0, u'last_letter': 'a'}\n",
      "correct=female   guess=male     name={u'g_index': -1.0, u'last_letter': 'a'}\n",
      "correct=female   guess=male     name={u'g_index': -1.0, u'last_letter': 'a'}\n",
      "correct=female   guess=male     name={u'g_index': -1.0, u'last_letter': 'a'}\n",
      "correct=female   guess=male     name={u'g_index': -1.0, u'last_letter': 'a'}\n",
      "correct=female   guess=male     name={u'g_index': -1.0, u'last_letter': 'a'}\n",
      "correct=female   guess=male     name={u'g_index': -1.0, u'last_letter': 'a'}\n",
      "correct=female   guess=male     name={u'g_index': -1.0, u'last_letter': 'a'}\n",
      "correct=female   guess=male     name={u'g_index': -1.0, u'last_letter': 'a'}\n",
      "correct=female   guess=male     name={u'g_index': -1.0, u'last_letter': 'a'}\n",
      "correct=female   guess=male     name={u'g_index': -1.0, u'last_letter': 'a'}\n",
      "correct=female   guess=male     name={u'g_index': -1.0, u'last_letter': 'a'}\n",
      "correct=female   guess=male     name={u'g_index': -1.0, u'last_letter': 'a'}\n",
      "correct=female   guess=male     name={u'g_index': -1.0, u'last_letter': 'a'}\n",
      "correct=female   guess=male     name={u'g_index': -1.0, u'last_letter': 'a'}\n",
      "correct=female   guess=male     name={u'g_index': -1.0, u'last_letter': 'a'}\n",
      "correct=female   guess=male     name={u'g_index': -1.0, u'last_letter': 'a'}\n",
      "correct=female   guess=male     name={u'g_index': -1.0, u'last_letter': 'a'}\n",
      "correct=female   guess=male     name={u'g_index': -1.0, u'last_letter': 'a'}\n",
      "correct=female   guess=male     name={u'g_index': -1.0, u'last_letter': 'a'}\n",
      "correct=female   guess=male     name={u'g_index': -1.0, u'last_letter': 'a'}\n",
      "correct=female   guess=male     name={u'g_index': -1.0, u'last_letter': 'a'}\n",
      "correct=female   guess=male     name={u'g_index': -1.0, u'last_letter': 'a'}\n",
      "correct=female   guess=male     name={u'g_index': -1.0, u'last_letter': 'a'}\n",
      "correct=female   guess=male     name={u'g_index': -1.0, u'last_letter': 'a'}\n",
      "correct=female   guess=male     name={u'g_index': -1.0, u'last_letter': 'a'}\n",
      "correct=female   guess=male     name={u'g_index': -1.0, u'last_letter': 'a'}\n",
      "correct=female   guess=male     name={u'g_index': -1.0, u'last_letter': 'a'}\n",
      "correct=female   guess=male     name={u'g_index': -1.0, u'last_letter': 'a'}\n",
      "correct=female   guess=male     name={u'g_index': -1.0, u'last_letter': 'a'}\n",
      "correct=female   guess=male     name={u'g_index': -1.0, u'last_letter': 'a'}\n",
      "correct=female   guess=male     name={u'g_index': -1.0, u'last_letter': 'a'}\n",
      "correct=female   guess=male     name={u'g_index': -1.0, u'last_letter': 'a'}\n",
      "correct=female   guess=male     name={u'g_index': -1.0, u'last_letter': 'a'}\n",
      "correct=female   guess=male     name={u'g_index': -1.0, u'last_letter': 'a'}\n",
      "correct=female   guess=male     name={u'g_index': -1.0, u'last_letter': 'a'}\n",
      "correct=female   guess=male     name={u'g_index': -1.0, u'last_letter': 'a'}\n",
      "correct=female   guess=male     name={u'g_index': -1.0, u'last_letter': 'a'}\n",
      "correct=female   guess=male     name={u'g_index': -1.0, u'last_letter': 'a'}\n",
      "correct=female   guess=male     name={u'g_index': -1.0, u'last_letter': 'a'}\n",
      "correct=female   guess=male     name={u'g_index': -1.0, u'last_letter': 'a'}\n",
      "correct=female   guess=male     name={u'g_index': -1.0, u'last_letter': 'a'}\n",
      "correct=female   guess=male     name={u'g_index': -1.0, u'last_letter': 'a'}\n",
      "correct=female   guess=male     name={u'g_index': -1.0, u'last_letter': 'a'}\n",
      "correct=female   guess=male     name={u'g_index': -1.0, u'last_letter': 'a'}\n",
      "correct=female   guess=male     name={u'g_index': -1.0, u'last_letter': 'a'}\n",
      "correct=female   guess=male     name={u'g_index': -1.0, u'last_letter': 'a'}\n",
      "correct=female   guess=male     name={u'g_index': -1.0, u'last_letter': 'a'}\n",
      "correct=female   guess=male     name={u'g_index': -1.0, u'last_letter': 'a'}\n",
      "correct=female   guess=male     name={u'g_index': -1.0, u'last_letter': 'a'}\n",
      "correct=female   guess=male     name={u'g_index': -1.0, u'last_letter': 'a'}\n",
      "correct=female   guess=male     name={u'g_index': -1.0, u'last_letter': 'a'}\n",
      "correct=female   guess=male     name={u'g_index': -1.0, u'last_letter': 'a'}\n",
      "correct=female   guess=male     name={u'g_index': -1.0, u'last_letter': 'a'}\n",
      "correct=female   guess=male     name={u'g_index': -1.0, u'last_letter': 'a'}\n",
      "correct=female   guess=male     name={u'g_index': -1.0, u'last_letter': 'a'}\n",
      "correct=female   guess=male     name={u'g_index': -1.0, u'last_letter': 'a'}\n",
      "correct=female   guess=male     name={u'g_index': -1.0, u'last_letter': 'a'}\n",
      "correct=female   guess=male     name={u'g_index': -1.0, u'last_letter': 'a'}\n",
      "correct=female   guess=male     name={u'g_index': -1.0, u'last_letter': 'a'}\n",
      "correct=female   guess=male     name={u'g_index': -1.0, u'last_letter': 'a'}\n",
      "correct=female   guess=male     name={u'g_index': -1.0, u'last_letter': 'a'}\n",
      "correct=female   guess=male     name={u'g_index': -1.0, u'last_letter': 'a'}\n",
      "correct=female   guess=male     name={u'g_index': -1.0, u'last_letter': 'a'}\n",
      "correct=female   guess=male     name={u'g_index': -1.0, u'last_letter': 'a'}\n",
      "correct=female   guess=male     name={u'g_index': -1.0, u'last_letter': 'a'}\n",
      "correct=female   guess=male     name={u'g_index': -1.0, u'last_letter': 'a'}\n",
      "correct=female   guess=male     name={u'g_index': -1.0, u'last_letter': 'a'}\n",
      "correct=female   guess=male     name={u'g_index': -1.0, u'last_letter': 'a'}\n",
      "correct=female   guess=male     name={u'g_index': -1.0, u'last_letter': 'a'}\n",
      "correct=female   guess=male     name={u'g_index': -1.0, u'last_letter': 'a'}\n",
      "correct=female   guess=male     name={u'g_index': -1.0, u'last_letter': 'a'}\n",
      "correct=female   guess=male     name={u'g_index': -1.0, u'last_letter': 'a'}\n",
      "correct=female   guess=male     name={u'g_index': -1.0, u'last_letter': 'a'}\n",
      "correct=female   guess=male     name={u'g_index': -1.0, u'last_letter': 'a'}\n",
      "correct=female   guess=male     name={u'g_index': -1.0, u'last_letter': 'a'}\n",
      "correct=female   guess=male     name={u'g_index': -1.0, u'last_letter': 'a'}\n",
      "correct=female   guess=male     name={u'g_index': -1.0, u'last_letter': 'a'}\n",
      "correct=female   guess=male     name={u'g_index': -1.0, u'last_letter': 'a'}\n",
      "correct=female   guess=male     name={u'g_index': -1.0, u'last_letter': 'a'}\n",
      "correct=female   guess=male     name={u'g_index': -1.0, u'last_letter': 'a'}\n",
      "correct=female   guess=male     name={u'g_index': -1.0, u'last_letter': 'a'}\n",
      "correct=female   guess=male     name={u'g_index': -1.0, u'last_letter': 'a'}\n",
      "correct=female   guess=male     name={u'g_index': -1.0, u'last_letter': 'a'}\n",
      "correct=female   guess=male     name={u'g_index': -1.0, u'last_letter': 'a'}\n",
      "correct=female   guess=male     name={u'g_index': -1.0, u'last_letter': 'a'}\n",
      "correct=female   guess=male     name={u'g_index': -1.0, u'last_letter': 'a'}\n",
      "correct=female   guess=male     name={u'g_index': -1.0, u'last_letter': 'a'}\n",
      "correct=female   guess=male     name={u'g_index': -1.0, u'last_letter': 'a'}\n",
      "correct=female   guess=male     name={u'g_index': -1.0, u'last_letter': 'a'}\n",
      "correct=female   guess=male     name={u'g_index': -1.0, u'last_letter': 'a'}\n",
      "correct=female   guess=male     name={u'g_index': -1.0, u'last_letter': 'a'}\n",
      "correct=female   guess=male     name={u'g_index': -1.0, u'last_letter': 'a'}\n",
      "correct=female   guess=male     name={u'g_index': -1.0, u'last_letter': 'a'}\n",
      "correct=female   guess=male     name={u'g_index': -1.0, u'last_letter': 'a'}\n",
      "correct=female   guess=male     name={u'g_index': -1.0, u'last_letter': 'a'}\n",
      "correct=female   guess=male     name={u'g_index': -1.0, u'last_letter': 'a'}\n",
      "correct=female   guess=male     name={u'g_index': -1.0, u'last_letter': 'a'}\n",
      "correct=female   guess=male     name={u'g_index': -1.0, u'last_letter': 'a'}\n",
      "correct=female   guess=male     name={u'g_index': -1.0, u'last_letter': 'a'}\n",
      "correct=female   guess=male     name={u'g_index': -1.0, u'last_letter': 'a'}\n",
      "correct=female   guess=male     name={u'g_index': -1.0, u'last_letter': 'a'}\n",
      "correct=female   guess=male     name={u'g_index': -1.0, u'last_letter': 'a'}\n",
      "correct=female   guess=male     name={u'g_index': -1.0, u'last_letter': 'a'}\n",
      "correct=female   guess=male     name={u'g_index': -1.0, u'last_letter': 'a'}\n",
      "correct=female   guess=male     name={u'g_index': -1.0, u'last_letter': 'a'}\n",
      "correct=female   guess=male     name={u'g_index': -1.0, u'last_letter': 'a'}\n",
      "correct=female   guess=male     name={u'g_index': -1.0, u'last_letter': 'a'}\n",
      "correct=female   guess=male     name={u'g_index': -1.0, u'last_letter': 'a'}\n",
      "correct=female   guess=male     name={u'g_index': -1.0, u'last_letter': 'a'}\n",
      "correct=female   guess=male     name={u'g_index': -1.0, u'last_letter': 'a'}\n",
      "correct=female   guess=male     name={u'g_index': -1.0, u'last_letter': 'a'}\n",
      "correct=female   guess=male     name={u'g_index': -1.0, u'last_letter': 'a'}\n",
      "correct=female   guess=male     name={u'g_index': -1.0, u'last_letter': 'a'}\n",
      "correct=female   guess=male     name={u'g_index': -1.0, u'last_letter': 'a'}\n",
      "correct=female   guess=male     name={u'g_index': -1.0, u'last_letter': 'a'}\n",
      "correct=female   guess=male     name={u'g_index': -1.0, u'last_letter': 'a'}\n",
      "correct=female   guess=male     name={u'g_index': -1.0, u'last_letter': 'a'}\n",
      "correct=female   guess=male     name={u'g_index': -1.0, u'last_letter': 'a'}\n",
      "correct=female   guess=male     name={u'g_index': -1.0, u'last_letter': 'a'}\n",
      "correct=female   guess=male     name={u'g_index': -1.0, u'last_letter': 'a'}\n",
      "correct=female   guess=male     name={u'g_index': -1.0, u'last_letter': 'a'}\n",
      "correct=female   guess=male     name={u'g_index': -1.0, u'last_letter': 'a'}\n",
      "correct=female   guess=male     name={u'g_index': -1.0, u'last_letter': 'a'}\n",
      "correct=female   guess=male     name={u'g_index': -1.0, u'last_letter': 'a'}\n",
      "correct=female   guess=male     name={u'g_index': -1.0, u'last_letter': 'a'}\n",
      "correct=female   guess=male     name={u'g_index': -1.0, u'last_letter': 'a'}\n",
      "correct=female   guess=male     name={u'g_index': -1.0, u'last_letter': 'a'}\n",
      "correct=female   guess=male     name={u'g_index': -1.0, u'last_letter': 'a'}\n",
      "correct=female   guess=male     name={u'g_index': -1.0, u'last_letter': 'a'}\n",
      "correct=female   guess=male     name={u'g_index': -1.0, u'last_letter': 'a'}\n",
      "correct=female   guess=male     name={u'g_index': -1.0, u'last_letter': 'a'}\n",
      "correct=female   guess=male     name={u'g_index': -1.0, u'last_letter': 'a'}\n",
      "correct=female   guess=male     name={u'g_index': -1.0, u'last_letter': 'a'}\n",
      "correct=female   guess=male     name={u'g_index': -1.0, u'last_letter': 'a'}\n",
      "correct=female   guess=male     name={u'g_index': -1.0, u'last_letter': 'a'}\n",
      "correct=female   guess=male     name={u'g_index': -1.0, u'last_letter': 'a'}\n",
      "correct=female   guess=male     name={u'g_index': -1.0, u'last_letter': 'a'}\n",
      "correct=female   guess=male     name={u'g_index': -1.0, u'last_letter': 'a'}\n",
      "correct=female   guess=male     name={u'g_index': -1.0, u'last_letter': 'e'}\n",
      "correct=female   guess=male     name={u'g_index': -1.0, u'last_letter': 'e'}\n",
      "correct=female   guess=male     name={u'g_index': -1.0, u'last_letter': 'e'}\n",
      "correct=female   guess=male     name={u'g_index': -1.0, u'last_letter': 'e'}\n",
      "correct=female   guess=male     name={u'g_index': -1.0, u'last_letter': 'e'}\n",
      "correct=female   guess=male     name={u'g_index': -1.0, u'last_letter': 'e'}\n",
      "correct=female   guess=male     name={u'g_index': -1.0, u'last_letter': 'e'}\n",
      "correct=female   guess=male     name={u'g_index': -1.0, u'last_letter': 'e'}\n",
      "correct=female   guess=male     name={u'g_index': -1.0, u'last_letter': 'e'}\n",
      "correct=female   guess=male     name={u'g_index': -1.0, u'last_letter': 'e'}\n",
      "correct=female   guess=male     name={u'g_index': -1.0, u'last_letter': 'e'}\n",
      "correct=female   guess=male     name={u'g_index': -1.0, u'last_letter': 'e'}\n",
      "correct=female   guess=male     name={u'g_index': -1.0, u'last_letter': 'e'}\n",
      "correct=female   guess=male     name={u'g_index': -1.0, u'last_letter': 'e'}\n",
      "correct=female   guess=male     name={u'g_index': -1.0, u'last_letter': 'e'}\n",
      "correct=female   guess=male     name={u'g_index': -1.0, u'last_letter': 'e'}\n",
      "correct=female   guess=male     name={u'g_index': -1.0, u'last_letter': 'e'}\n",
      "correct=female   guess=male     name={u'g_index': -1.0, u'last_letter': 'e'}\n",
      "correct=female   guess=male     name={u'g_index': -1.0, u'last_letter': 'e'}\n",
      "correct=female   guess=male     name={u'g_index': -1.0, u'last_letter': 'e'}\n",
      "correct=female   guess=male     name={u'g_index': -1.0, u'last_letter': 'e'}\n",
      "correct=female   guess=male     name={u'g_index': -1.0, u'last_letter': 'e'}\n",
      "correct=female   guess=male     name={u'g_index': -1.0, u'last_letter': 'e'}\n",
      "correct=female   guess=male     name={u'g_index': -1.0, u'last_letter': 'e'}\n",
      "correct=female   guess=male     name={u'g_index': -1.0, u'last_letter': 'e'}\n",
      "correct=female   guess=male     name={u'g_index': -1.0, u'last_letter': 'e'}\n",
      "correct=female   guess=male     name={u'g_index': -1.0, u'last_letter': 'e'}\n",
      "correct=female   guess=male     name={u'g_index': -1.0, u'last_letter': 'e'}\n",
      "correct=female   guess=male     name={u'g_index': -1.0, u'last_letter': 'e'}\n",
      "correct=female   guess=male     name={u'g_index': -1.0, u'last_letter': 'e'}\n",
      "correct=female   guess=male     name={u'g_index': -1.0, u'last_letter': 'e'}\n",
      "correct=female   guess=male     name={u'g_index': -1.0, u'last_letter': 'e'}\n",
      "correct=female   guess=male     name={u'g_index': -1.0, u'last_letter': 'e'}\n",
      "correct=female   guess=male     name={u'g_index': -1.0, u'last_letter': 'e'}\n",
      "correct=female   guess=male     name={u'g_index': -1.0, u'last_letter': 'e'}\n",
      "correct=female   guess=male     name={u'g_index': -1.0, u'last_letter': 'e'}\n",
      "correct=female   guess=male     name={u'g_index': -1.0, u'last_letter': 'e'}\n",
      "correct=female   guess=male     name={u'g_index': -1.0, u'last_letter': 'e'}\n",
      "correct=female   guess=male     name={u'g_index': -1.0, u'last_letter': 'e'}\n",
      "correct=female   guess=male     name={u'g_index': -1.0, u'last_letter': 'e'}\n",
      "correct=female   guess=male     name={u'g_index': -1.0, u'last_letter': 'e'}\n",
      "correct=female   guess=male     name={u'g_index': -1.0, u'last_letter': 'e'}\n",
      "correct=female   guess=male     name={u'g_index': -1.0, u'last_letter': 'e'}\n",
      "correct=female   guess=male     name={u'g_index': -1.0, u'last_letter': 'e'}\n",
      "correct=female   guess=male     name={u'g_index': -1.0, u'last_letter': 'e'}\n",
      "correct=female   guess=male     name={u'g_index': -1.0, u'last_letter': 'e'}\n",
      "correct=female   guess=male     name={u'g_index': -1.0, u'last_letter': 'e'}\n",
      "correct=female   guess=male     name={u'g_index': -1.0, u'last_letter': 'e'}\n",
      "correct=female   guess=male     name={u'g_index': -1.0, u'last_letter': 'h'}\n",
      "correct=female   guess=male     name={u'g_index': -1.0, u'last_letter': 'h'}\n",
      "correct=female   guess=male     name={u'g_index': -1.0, u'last_letter': 'h'}\n",
      "correct=female   guess=male     name={u'g_index': -1.0, u'last_letter': 'h'}\n",
      "correct=female   guess=male     name={u'g_index': -1.0, u'last_letter': 'h'}\n",
      "correct=female   guess=male     name={u'g_index': -1.0, u'last_letter': 'h'}\n",
      "correct=female   guess=male     name={u'g_index': -1.0, u'last_letter': 'h'}\n",
      "correct=female   guess=male     name={u'g_index': -1.0, u'last_letter': 'h'}\n",
      "correct=female   guess=male     name={u'g_index': -1.0, u'last_letter': 'h'}\n",
      "correct=female   guess=male     name={u'g_index': -1.0, u'last_letter': 'h'}\n",
      "correct=female   guess=male     name={u'g_index': -1.0, u'last_letter': 'h'}\n",
      "correct=female   guess=male     name={u'g_index': -1.0, u'last_letter': 'h'}\n",
      "correct=female   guess=male     name={u'g_index': -1.0, u'last_letter': 'h'}\n",
      "correct=female   guess=male     name={u'g_index': -1.0, u'last_letter': 'h'}\n",
      "correct=female   guess=male     name={u'g_index': -1.0, u'last_letter': 'h'}\n",
      "correct=female   guess=male     name={u'g_index': -1.0, u'last_letter': 'h'}\n",
      "correct=female   guess=male     name={u'g_index': -1.0, u'last_letter': 'h'}\n",
      "correct=female   guess=male     name={u'g_index': -1.0, u'last_letter': 'h'}\n",
      "correct=female   guess=male     name={u'g_index': -1.0, u'last_letter': 'h'}\n",
      "correct=female   guess=male     name={u'g_index': -1.0, u'last_letter': 'h'}\n",
      "correct=female   guess=male     name={u'g_index': -1.0, u'last_letter': 'h'}\n",
      "correct=female   guess=male     name={u'g_index': -1.0, u'last_letter': 'h'}\n",
      "correct=female   guess=male     name={u'g_index': -1.0, u'last_letter': 'h'}\n",
      "correct=female   guess=male     name={u'g_index': -1.0, u'last_letter': 'h'}\n",
      "correct=female   guess=male     name={u'g_index': -1.0, u'last_letter': 'h'}\n",
      "correct=female   guess=male     name={u'g_index': -1.0, u'last_letter': 'h'}\n",
      "correct=female   guess=male     name={u'g_index': -1.0, u'last_letter': 'h'}\n",
      "correct=female   guess=male     name={u'g_index': -1.0, u'last_letter': 'h'}\n",
      "correct=female   guess=male     name={u'g_index': -1.0, u'last_letter': 'i'}\n",
      "correct=female   guess=male     name={u'g_index': -1.0, u'last_letter': 'i'}\n",
      "correct=female   guess=male     name={u'g_index': -1.0, u'last_letter': 'i'}\n",
      "correct=female   guess=male     name={u'g_index': -1.0, u'last_letter': 'i'}\n",
      "correct=female   guess=male     name={u'g_index': -1.0, u'last_letter': 'i'}\n",
      "correct=female   guess=male     name={u'g_index': -1.0, u'last_letter': 'i'}\n",
      "correct=female   guess=male     name={u'g_index': -1.0, u'last_letter': 'i'}\n",
      "correct=female   guess=male     name={u'g_index': -1.0, u'last_letter': 'i'}\n",
      "correct=female   guess=male     name={u'g_index': -1.0, u'last_letter': 'i'}\n",
      "correct=female   guess=male     name={u'g_index': -1.0, u'last_letter': 'i'}\n",
      "correct=female   guess=male     name={u'g_index': -1.0, u'last_letter': 'i'}\n",
      "correct=female   guess=male     name={u'g_index': -1.0, u'last_letter': 'i'}\n",
      "correct=female   guess=male     name={u'g_index': -1.0, u'last_letter': 'i'}\n",
      "correct=female   guess=male     name={u'g_index': -1.0, u'last_letter': 'i'}\n",
      "correct=female   guess=male     name={u'g_index': -1.0, u'last_letter': 'i'}\n",
      "correct=female   guess=male     name={u'g_index': -1.0, u'last_letter': 'i'}\n",
      "correct=female   guess=male     name={u'g_index': -1.0, u'last_letter': 'i'}\n",
      "correct=female   guess=male     name={u'g_index': -1.0, u'last_letter': 'i'}\n",
      "correct=female   guess=male     name={u'g_index': -1.0, u'last_letter': 'i'}\n",
      "correct=female   guess=male     name={u'g_index': -1.0, u'last_letter': 'i'}\n",
      "correct=female   guess=male     name={u'g_index': -1.0, u'last_letter': 'l'}\n",
      "correct=female   guess=male     name={u'g_index': -1.0, u'last_letter': 'l'}\n",
      "correct=female   guess=male     name={u'g_index': -1.0, u'last_letter': 'l'}\n",
      "correct=female   guess=male     name={u'g_index': -1.0, u'last_letter': 'l'}\n",
      "correct=female   guess=male     name={u'g_index': -1.0, u'last_letter': 'l'}\n",
      "correct=female   guess=male     name={u'g_index': -1.0, u'last_letter': 'l'}\n",
      "correct=female   guess=male     name={u'g_index': -1.0, u'last_letter': 'l'}\n",
      "correct=female   guess=male     name={u'g_index': -1.0, u'last_letter': 'l'}\n",
      "correct=female   guess=male     name={u'g_index': -1.0, u'last_letter': 'l'}\n",
      "correct=female   guess=male     name={u'g_index': -1.0, u'last_letter': 'n'}\n",
      "correct=female   guess=male     name={u'g_index': -1.0, u'last_letter': 'n'}\n",
      "correct=female   guess=male     name={u'g_index': -1.0, u'last_letter': 'n'}\n",
      "correct=female   guess=male     name={u'g_index': -1.0, u'last_letter': 'n'}\n",
      "correct=female   guess=male     name={u'g_index': -1.0, u'last_letter': 'n'}\n",
      "correct=female   guess=male     name={u'g_index': -1.0, u'last_letter': 'n'}\n",
      "correct=female   guess=male     name={u'g_index': -1.0, u'last_letter': 'n'}\n",
      "correct=female   guess=male     name={u'g_index': -1.0, u'last_letter': 'n'}\n",
      "correct=female   guess=male     name={u'g_index': -1.0, u'last_letter': 'n'}\n",
      "correct=female   guess=male     name={u'g_index': -1.0, u'last_letter': 'n'}\n",
      "correct=female   guess=male     name={u'g_index': -1.0, u'last_letter': 'n'}\n",
      "correct=female   guess=male     name={u'g_index': -1.0, u'last_letter': 'n'}\n",
      "correct=female   guess=male     name={u'g_index': -1.0, u'last_letter': 'n'}\n",
      "correct=female   guess=male     name={u'g_index': -1.0, u'last_letter': 'n'}\n",
      "correct=female   guess=male     name={u'g_index': -1.0, u'last_letter': 'n'}\n",
      "correct=female   guess=male     name={u'g_index': -1.0, u'last_letter': 'n'}\n",
      "correct=female   guess=male     name={u'g_index': -1.0, u'last_letter': 'n'}\n",
      "correct=female   guess=male     name={u'g_index': -1.0, u'last_letter': 'n'}\n",
      "correct=female   guess=male     name={u'g_index': -1.0, u'last_letter': 'n'}\n",
      "correct=female   guess=male     name={u'g_index': -1.0, u'last_letter': 'o'}\n",
      "correct=female   guess=male     name={u'g_index': -1.0, u'last_letter': 's'}\n",
      "correct=female   guess=male     name={u'g_index': -1.0, u'last_letter': 's'}\n",
      "correct=female   guess=male     name={u'g_index': -1.0, u'last_letter': 's'}\n",
      "correct=female   guess=male     name={u'g_index': -1.0, u'last_letter': 's'}\n",
      "correct=female   guess=male     name={u'g_index': -1.0, u'last_letter': 's'}\n",
      "correct=female   guess=male     name={u'g_index': -1.0, u'last_letter': 's'}\n",
      "correct=female   guess=male     name={u'g_index': -1.0, u'last_letter': 't'}\n",
      "correct=female   guess=male     name={u'g_index': -1.0, u'last_letter': 't'}\n",
      "correct=female   guess=male     name={u'g_index': -1.0, u'last_letter': 't'}\n",
      "correct=female   guess=male     name={u'g_index': -1.0, u'last_letter': 't'}\n",
      "correct=female   guess=male     name={u'g_index': -1.0, u'last_letter': 'u'}\n",
      "correct=female   guess=male     name={u'g_index': -1.0, u'last_letter': 'y'}\n",
      "correct=female   guess=male     name={u'g_index': -1.0, u'last_letter': 'y'}\n",
      "correct=female   guess=male     name={u'g_index': -1.0, u'last_letter': 'y'}\n",
      "correct=female   guess=male     name={u'g_index': -1.0, u'last_letter': 'y'}\n",
      "correct=female   guess=male     name={u'g_index': -1.0, u'last_letter': 'y'}\n",
      "correct=female   guess=male     name={u'g_index': -1.0, u'last_letter': 'y'}\n",
      "correct=female   guess=male     name={u'g_index': -1.0, u'last_letter': 'y'}\n",
      "correct=female   guess=male     name={u'g_index': -1.0, u'last_letter': 'y'}\n",
      "correct=female   guess=male     name={u'g_index': -1.0, u'last_letter': 'y'}\n",
      "correct=female   guess=male     name={u'g_index': -1.0, u'last_letter': 'y'}\n",
      "correct=female   guess=male     name={u'g_index': -1.0, u'last_letter': 'y'}\n",
      "correct=female   guess=male     name={u'g_index': -1.0, u'last_letter': 'y'}\n",
      "correct=female   guess=male     name={u'g_index': -1.0, u'last_letter': 'y'}\n",
      "correct=female   guess=male     name={u'g_index': -1.0, u'last_letter': 'y'}\n",
      "correct=female   guess=male     name={u'g_index': -1.0, u'last_letter': 'y'}\n",
      "correct=female   guess=male     name={u'g_index': -1.0, u'last_letter': 'y'}\n",
      "correct=female   guess=male     name={u'g_index': -1.0, u'last_letter': 'z'}\n",
      "correct=female   guess=male     name={u'g_index': -0.99885413085825603, u'last_letter': 'e'}\n",
      "correct=female   guess=male     name={u'g_index': -0.99615567678394901, u'last_letter': 'a'}\n",
      "correct=female   guess=male     name={u'g_index': -0.99398378789158148, u'last_letter': 'a'}\n",
      "correct=female   guess=male     name={u'g_index': -0.98957345182818246, u'last_letter': 'e'}\n",
      "correct=female   guess=male     name={u'g_index': -0.98937784522003036, u'last_letter': 'a'}\n",
      "correct=female   guess=male     name={u'g_index': -0.94666666666666666, u'last_letter': 'l'}\n",
      "correct=female   guess=male     name={u'g_index': -0.93359893758300128, u'last_letter': 'i'}\n",
      "correct=female   guess=male     name={u'g_index': -0.92556634304207119, u'last_letter': 'i'}\n",
      "correct=female   guess=male     name={u'g_index': -0.91871657754010694, u'last_letter': 'd'}\n",
      "correct=female   guess=male     name={u'g_index': -0.88816951147733958, u'last_letter': 'e'}\n",
      "correct=female   guess=male     name={u'g_index': -0.75605858854860186, u'last_letter': 'l'}\n",
      "correct=female   guess=male     name={u'g_index': -0.66101694915254239, u'last_letter': 'n'}\n",
      "correct=female   guess=male     name={u'g_index': -0.49117276166456492, u'last_letter': 'y'}\n",
      "correct=female   guess=male     name={u'g_index': -0.42348754448398579, u'last_letter': 'y'}\n",
      "correct=female   guess=male     name={u'g_index': -0.375, u'last_letter': 'y'}\n",
      "correct=female   guess=male     name={u'g_index': -0.2857142857142857, u'last_letter': 'i'}\n",
      "correct=female   guess=male     name={u'g_index': -0.21961067051189617, u'last_letter': 'n'}\n"
     ]
    }
   ],
   "source": [
    "## look at the errors\n",
    "errors = []\n",
    "for (name, tag) in dev_setX:\n",
    "    guess = nbclassifierX3.classify(gender_featuresX3(namesList2))\n",
    "    if guess != tag:\n",
    "        errors.append( (tag, guess, name) )\n",
    "        \n",
    "for (tag, guess, name) in sorted(errors): # doctest: +ELLIPSIS +NORMALIZE_WHITESPACE\n",
    "    print 'correct=%-8s guess=%-8s name=%-30s' % (tag, guess, name) "
   ]
  },
  {
   "cell_type": "markdown",
   "metadata": {},
   "source": [
    "### A couple checks; nails male names the others miss, but gets 'Trinity' wrong"
   ]
  },
  {
   "cell_type": "code",
   "execution_count": 179,
   "metadata": {
    "collapsed": false,
    "scrolled": true
   },
   "outputs": [
    {
     "data": {
      "text/plain": [
       "(u'male', u'male', u'male')"
      ]
     },
     "execution_count": 179,
     "metadata": {},
     "output_type": "execute_result"
    }
   ],
   "source": [
    "nbclassifierX.classify(gender_featuresX('Joe')), nbclassifierX2.classify(gender_featuresX2('Joe')), nbclassifierX3.classify(gender_featuresX3('Joe'))"
   ]
  },
  {
   "cell_type": "code",
   "execution_count": 180,
   "metadata": {
    "collapsed": false,
    "scrolled": true
   },
   "outputs": [
    {
     "data": {
      "text/plain": [
       "(u'male', u'male', u'male')"
      ]
     },
     "execution_count": 180,
     "metadata": {},
     "output_type": "execute_result"
    }
   ],
   "source": [
    "nbclassifierX.classify(gender_featuresX('Howie')), nbclassifierX2.classify(gender_featuresX2('Howie')), nbclassifierX3.classify(gender_featuresX3('Howie'))\n"
   ]
  },
  {
   "cell_type": "code",
   "execution_count": 181,
   "metadata": {
    "collapsed": false,
    "scrolled": true
   },
   "outputs": [
    {
     "data": {
      "text/plain": [
       "(u'male', u'male', u'male')"
      ]
     },
     "execution_count": 181,
     "metadata": {},
     "output_type": "execute_result"
    }
   ],
   "source": [
    "nbclassifierX.classify(gender_featuresX('Neo')), nbclassifierX2.classify(gender_featuresX2('Neo')), nbclassifierX3.classify(gender_featuresX3('Neo'))"
   ]
  },
  {
   "cell_type": "code",
   "execution_count": 182,
   "metadata": {
    "collapsed": false,
    "scrolled": true
   },
   "outputs": [
    {
     "data": {
      "text/plain": [
       "(u'male', u'male', u'male')"
      ]
     },
     "execution_count": 182,
     "metadata": {},
     "output_type": "execute_result"
    }
   ],
   "source": [
    "nbclassifierX.classify(gender_featuresX('Trinity')), nbclassifierX2.classify(gender_featuresX2('Trinity')), nbclassifierX3.classify(gender_featuresX3('Trinity'))"
   ]
  },
  {
   "cell_type": "markdown",
   "metadata": {},
   "source": [
    "### Try featureset 1 with decisionTree classification"
   ]
  },
  {
   "cell_type": "code",
   "execution_count": 183,
   "metadata": {
    "collapsed": true
   },
   "outputs": [],
   "source": [
    "## code randomly shuffles the Social Security names list, then makes a featuresetX\n",
    "random.shuffle(namesList2) \n",
    "featuresetX = []\n",
    "for i in range(len(namesList2)):\n",
    "    features = gender_featuresX(namesList2[i])\n",
    "    gender = namesList2[i][2]\n",
    "    row = (features, gender)\n",
    "    featuresetX.append(row)"
   ]
  },
  {
   "cell_type": "code",
   "execution_count": 184,
   "metadata": {
    "collapsed": true
   },
   "outputs": [],
   "source": [
    "## select training, development and test sets\n",
    "train_setX = featuresetX[1000:]\n",
    "test_setX = featuresetX[:500]\n",
    "dev_setX = featuresetX[500:1000]"
   ]
  },
  {
   "cell_type": "markdown",
   "metadata": {},
   "source": [
    "### Decision tree accuracy is nowhere close"
   ]
  },
  {
   "cell_type": "code",
   "execution_count": 187,
   "metadata": {
    "collapsed": false
   },
   "outputs": [
    {
     "name": "stdout",
     "output_type": "stream",
     "text": [
      "0.646\n"
     ]
    }
   ],
   "source": [
    "dtclassifier = nltk.classify.DecisionTreeClassifier.train(train_setX, entropy_cutoff=0,support_cutoff=0)\n",
    "print nltk.classify.accuracy(classifier, dev_setX)"
   ]
  },
  {
   "cell_type": "markdown",
   "metadata": {},
   "source": [
    "***\n",
    "***\n",
    "***"
   ]
  },
  {
   "cell_type": "markdown",
   "metadata": {},
   "source": [
    "## Note: Must to run code below to pick up the Social Security data set used above"
   ]
  },
  {
   "cell_type": "markdown",
   "metadata": {},
   "source": [
    "***\n",
    "***\n",
    "***"
   ]
  },
  {
   "cell_type": "markdown",
   "metadata": {},
   "source": [
    "## Appendix A: Preparation of Social Security Names Data\n",
    "\n",
    "Data was downloaded from this site on 10/17/2016: https://www.ssa.gov/oact/babynames/limits.html. Zipped .csv files were unpacked into a directory labeled 'names' and processed from there using the steps below."
   ]
  },
  {
   "cell_type": "code",
   "execution_count": 26,
   "metadata": {
    "collapsed": true
   },
   "outputs": [],
   "source": [
    "import glob"
   ]
  },
  {
   "cell_type": "code",
   "execution_count": 27,
   "metadata": {
    "collapsed": false
   },
   "outputs": [],
   "source": [
    "## function puts all the social security name files 1950-2015 in a single csv file\n",
    "def concat(indir='/Users/tjd/Dropbox/CUNY/IS620/names', outfile='/Users/tjd/Dropbox/CUNY/IS620/names/concat.csv'):\n",
    "    os.chdir(indir)\n",
    "    fileList = glob.glob(\"*.txt\")\n",
    "    dfList=[]\n",
    "    for filename in fileList:\n",
    "        print(filename)\n",
    "        df=pd.read_csv(filename, header=None)\n",
    "        dfList.append(df)\n",
    "    concatDF=pd.concat(dfList, axis=0)\n",
    "    concatDF.to_csv(outfile, index=None)"
   ]
  },
  {
   "cell_type": "code",
   "execution_count": 28,
   "metadata": {
    "collapsed": false,
    "scrolled": true
   },
   "outputs": [
    {
     "name": "stdout",
     "output_type": "stream",
     "text": [
      "yob1950.txt\n",
      "yob1951.txt\n",
      "yob1952.txt\n",
      "yob1953.txt\n",
      "yob1954.txt\n",
      "yob1955.txt\n",
      "yob1956.txt\n",
      "yob1957.txt\n",
      "yob1958.txt\n",
      "yob1959.txt\n",
      "yob1960.txt\n",
      "yob1961.txt\n",
      "yob1962.txt\n",
      "yob1963.txt\n",
      "yob1964.txt\n",
      "yob1965.txt\n",
      "yob1966.txt\n",
      "yob1967.txt\n",
      "yob1968.txt\n",
      "yob1969.txt\n",
      "yob1970.txt\n",
      "yob1971.txt\n",
      "yob1972.txt\n",
      "yob1973.txt\n",
      "yob1974.txt\n",
      "yob1975.txt\n",
      "yob1976.txt\n",
      "yob1977.txt\n",
      "yob1978.txt\n",
      "yob1979.txt\n",
      "yob1980.txt\n",
      "yob1981.txt\n",
      "yob1982.txt\n",
      "yob1983.txt\n",
      "yob1984.txt\n",
      "yob1985.txt\n",
      "yob1986.txt\n",
      "yob1987.txt\n",
      "yob1988.txt\n",
      "yob1989.txt\n",
      "yob1990.txt\n",
      "yob1991.txt\n",
      "yob1992.txt\n",
      "yob1993.txt\n",
      "yob1994.txt\n",
      "yob1995.txt\n",
      "yob1996.txt\n",
      "yob1997.txt\n",
      "yob1998.txt\n",
      "yob1999.txt\n",
      "yob2000.txt\n",
      "yob2001.txt\n",
      "yob2002.txt\n",
      "yob2003.txt\n",
      "yob2004.txt\n",
      "yob2005.txt\n",
      "yob2006.txt\n",
      "yob2007.txt\n",
      "yob2008.txt\n",
      "yob2009.txt\n",
      "yob2010.txt\n",
      "yob2011.txt\n",
      "yob2012.txt\n",
      "yob2013.txt\n",
      "yob2014.txt\n",
      "yob2015.txt\n"
     ]
    }
   ],
   "source": [
    "## run the function and report the files that are concatenated\n",
    "concat()"
   ]
  },
  {
   "cell_type": "code",
   "execution_count": 29,
   "metadata": {
    "collapsed": false
   },
   "outputs": [],
   "source": [
    "## switch back to main jupyter working dir\n",
    "os.chdir('/Users/tjd/Dropbox/CUNY/IS620')"
   ]
  },
  {
   "cell_type": "code",
   "execution_count": 30,
   "metadata": {
    "collapsed": false
   },
   "outputs": [],
   "source": [
    "## read SS names into a pandas dataframe and examine\n",
    "names = pd.read_csv('/Users/tjd/Dropbox/CUNY/IS620/names/concat.csv',names=['name', 'gender', 'count'])"
   ]
  },
  {
   "cell_type": "code",
   "execution_count": 31,
   "metadata": {
    "collapsed": false
   },
   "outputs": [
    {
     "data": {
      "text/html": [
       "<div>\n",
       "<table border=\"1\" class=\"dataframe\">\n",
       "  <thead>\n",
       "    <tr style=\"text-align: right;\">\n",
       "      <th></th>\n",
       "      <th>name</th>\n",
       "      <th>gender</th>\n",
       "      <th>count</th>\n",
       "    </tr>\n",
       "  </thead>\n",
       "  <tbody>\n",
       "    <tr>\n",
       "      <th>0</th>\n",
       "      <td>0</td>\n",
       "      <td>1</td>\n",
       "      <td>2</td>\n",
       "    </tr>\n",
       "    <tr>\n",
       "      <th>1</th>\n",
       "      <td>Linda</td>\n",
       "      <td>F</td>\n",
       "      <td>80439</td>\n",
       "    </tr>\n",
       "    <tr>\n",
       "      <th>2</th>\n",
       "      <td>Mary</td>\n",
       "      <td>F</td>\n",
       "      <td>65485</td>\n",
       "    </tr>\n",
       "    <tr>\n",
       "      <th>3</th>\n",
       "      <td>Patricia</td>\n",
       "      <td>F</td>\n",
       "      <td>47952</td>\n",
       "    </tr>\n",
       "    <tr>\n",
       "      <th>4</th>\n",
       "      <td>Barbara</td>\n",
       "      <td>F</td>\n",
       "      <td>41570</td>\n",
       "    </tr>\n",
       "  </tbody>\n",
       "</table>\n",
       "</div>"
      ],
      "text/plain": [
       "       name gender  count\n",
       "0         0      1      2\n",
       "1     Linda      F  80439\n",
       "2      Mary      F  65485\n",
       "3  Patricia      F  47952\n",
       "4   Barbara      F  41570"
      ]
     },
     "execution_count": 31,
     "metadata": {},
     "output_type": "execute_result"
    }
   ],
   "source": [
    "names.head()"
   ]
  },
  {
   "cell_type": "code",
   "execution_count": 32,
   "metadata": {
    "collapsed": false,
    "scrolled": true
   },
   "outputs": [
    {
     "data": {
      "text/html": [
       "<div>\n",
       "<table border=\"1\" class=\"dataframe\">\n",
       "  <thead>\n",
       "    <tr style=\"text-align: right;\">\n",
       "      <th></th>\n",
       "      <th>name</th>\n",
       "      <th>gender</th>\n",
       "      <th>count</th>\n",
       "    </tr>\n",
       "  </thead>\n",
       "  <tbody>\n",
       "    <tr>\n",
       "      <th>1</th>\n",
       "      <td>Linda</td>\n",
       "      <td>F</td>\n",
       "      <td>80439</td>\n",
       "    </tr>\n",
       "    <tr>\n",
       "      <th>2</th>\n",
       "      <td>Mary</td>\n",
       "      <td>F</td>\n",
       "      <td>65485</td>\n",
       "    </tr>\n",
       "    <tr>\n",
       "      <th>3</th>\n",
       "      <td>Patricia</td>\n",
       "      <td>F</td>\n",
       "      <td>47952</td>\n",
       "    </tr>\n",
       "    <tr>\n",
       "      <th>4</th>\n",
       "      <td>Barbara</td>\n",
       "      <td>F</td>\n",
       "      <td>41570</td>\n",
       "    </tr>\n",
       "    <tr>\n",
       "      <th>5</th>\n",
       "      <td>Susan</td>\n",
       "      <td>F</td>\n",
       "      <td>38021</td>\n",
       "    </tr>\n",
       "    <tr>\n",
       "      <th>6</th>\n",
       "      <td>Nancy</td>\n",
       "      <td>F</td>\n",
       "      <td>29622</td>\n",
       "    </tr>\n",
       "    <tr>\n",
       "      <th>7</th>\n",
       "      <td>Deborah</td>\n",
       "      <td>F</td>\n",
       "      <td>29073</td>\n",
       "    </tr>\n",
       "    <tr>\n",
       "      <th>8</th>\n",
       "      <td>Sandra</td>\n",
       "      <td>F</td>\n",
       "      <td>28895</td>\n",
       "    </tr>\n",
       "    <tr>\n",
       "      <th>9</th>\n",
       "      <td>Carol</td>\n",
       "      <td>F</td>\n",
       "      <td>26162</td>\n",
       "    </tr>\n",
       "    <tr>\n",
       "      <th>10</th>\n",
       "      <td>Kathleen</td>\n",
       "      <td>F</td>\n",
       "      <td>25706</td>\n",
       "    </tr>\n",
       "    <tr>\n",
       "      <th>11</th>\n",
       "      <td>Sharon</td>\n",
       "      <td>F</td>\n",
       "      <td>24614</td>\n",
       "    </tr>\n",
       "    <tr>\n",
       "      <th>12</th>\n",
       "      <td>Karen</td>\n",
       "      <td>F</td>\n",
       "      <td>24144</td>\n",
       "    </tr>\n",
       "    <tr>\n",
       "      <th>13</th>\n",
       "      <td>Donna</td>\n",
       "      <td>F</td>\n",
       "      <td>21632</td>\n",
       "    </tr>\n",
       "    <tr>\n",
       "      <th>14</th>\n",
       "      <td>Brenda</td>\n",
       "      <td>F</td>\n",
       "      <td>20794</td>\n",
       "    </tr>\n",
       "    <tr>\n",
       "      <th>15</th>\n",
       "      <td>Margaret</td>\n",
       "      <td>F</td>\n",
       "      <td>18107</td>\n",
       "    </tr>\n",
       "    <tr>\n",
       "      <th>16</th>\n",
       "      <td>Diane</td>\n",
       "      <td>F</td>\n",
       "      <td>17636</td>\n",
       "    </tr>\n",
       "    <tr>\n",
       "      <th>17</th>\n",
       "      <td>Pamela</td>\n",
       "      <td>F</td>\n",
       "      <td>16207</td>\n",
       "    </tr>\n",
       "    <tr>\n",
       "      <th>18</th>\n",
       "      <td>Janet</td>\n",
       "      <td>F</td>\n",
       "      <td>16196</td>\n",
       "    </tr>\n",
       "    <tr>\n",
       "      <th>19</th>\n",
       "      <td>Shirley</td>\n",
       "      <td>F</td>\n",
       "      <td>15896</td>\n",
       "    </tr>\n",
       "    <tr>\n",
       "      <th>20</th>\n",
       "      <td>Carolyn</td>\n",
       "      <td>F</td>\n",
       "      <td>15596</td>\n",
       "    </tr>\n",
       "    <tr>\n",
       "      <th>21</th>\n",
       "      <td>Judith</td>\n",
       "      <td>F</td>\n",
       "      <td>15358</td>\n",
       "    </tr>\n",
       "    <tr>\n",
       "      <th>22</th>\n",
       "      <td>Janice</td>\n",
       "      <td>F</td>\n",
       "      <td>15019</td>\n",
       "    </tr>\n",
       "    <tr>\n",
       "      <th>23</th>\n",
       "      <td>Cynthia</td>\n",
       "      <td>F</td>\n",
       "      <td>14451</td>\n",
       "    </tr>\n",
       "    <tr>\n",
       "      <th>24</th>\n",
       "      <td>Elizabeth</td>\n",
       "      <td>F</td>\n",
       "      <td>14339</td>\n",
       "    </tr>\n",
       "    <tr>\n",
       "      <th>25</th>\n",
       "      <td>Judy</td>\n",
       "      <td>F</td>\n",
       "      <td>14208</td>\n",
       "    </tr>\n",
       "    <tr>\n",
       "      <th>26</th>\n",
       "      <td>Betty</td>\n",
       "      <td>F</td>\n",
       "      <td>13614</td>\n",
       "    </tr>\n",
       "    <tr>\n",
       "      <th>27</th>\n",
       "      <td>Joyce</td>\n",
       "      <td>F</td>\n",
       "      <td>13418</td>\n",
       "    </tr>\n",
       "    <tr>\n",
       "      <th>28</th>\n",
       "      <td>Christine</td>\n",
       "      <td>F</td>\n",
       "      <td>12677</td>\n",
       "    </tr>\n",
       "    <tr>\n",
       "      <th>29</th>\n",
       "      <td>Cheryl</td>\n",
       "      <td>F</td>\n",
       "      <td>11825</td>\n",
       "    </tr>\n",
       "    <tr>\n",
       "      <th>30</th>\n",
       "      <td>Gloria</td>\n",
       "      <td>F</td>\n",
       "      <td>11038</td>\n",
       "    </tr>\n",
       "    <tr>\n",
       "      <th>...</th>\n",
       "      <td>...</td>\n",
       "      <td>...</td>\n",
       "      <td>...</td>\n",
       "    </tr>\n",
       "    <tr>\n",
       "      <th>1396736</th>\n",
       "      <td>Zavon</td>\n",
       "      <td>M</td>\n",
       "      <td>5</td>\n",
       "    </tr>\n",
       "    <tr>\n",
       "      <th>1396737</th>\n",
       "      <td>Zay</td>\n",
       "      <td>M</td>\n",
       "      <td>5</td>\n",
       "    </tr>\n",
       "    <tr>\n",
       "      <th>1396738</th>\n",
       "      <td>Zaylor</td>\n",
       "      <td>M</td>\n",
       "      <td>5</td>\n",
       "    </tr>\n",
       "    <tr>\n",
       "      <th>1396739</th>\n",
       "      <td>Zayquan</td>\n",
       "      <td>M</td>\n",
       "      <td>5</td>\n",
       "    </tr>\n",
       "    <tr>\n",
       "      <th>1396740</th>\n",
       "      <td>Zecharia</td>\n",
       "      <td>M</td>\n",
       "      <td>5</td>\n",
       "    </tr>\n",
       "    <tr>\n",
       "      <th>1396741</th>\n",
       "      <td>Zecharya</td>\n",
       "      <td>M</td>\n",
       "      <td>5</td>\n",
       "    </tr>\n",
       "    <tr>\n",
       "      <th>1396742</th>\n",
       "      <td>Zee</td>\n",
       "      <td>M</td>\n",
       "      <td>5</td>\n",
       "    </tr>\n",
       "    <tr>\n",
       "      <th>1396743</th>\n",
       "      <td>Zeev</td>\n",
       "      <td>M</td>\n",
       "      <td>5</td>\n",
       "    </tr>\n",
       "    <tr>\n",
       "      <th>1396744</th>\n",
       "      <td>Zeik</td>\n",
       "      <td>M</td>\n",
       "      <td>5</td>\n",
       "    </tr>\n",
       "    <tr>\n",
       "      <th>1396745</th>\n",
       "      <td>Zekariah</td>\n",
       "      <td>M</td>\n",
       "      <td>5</td>\n",
       "    </tr>\n",
       "    <tr>\n",
       "      <th>1396746</th>\n",
       "      <td>Zepplin</td>\n",
       "      <td>M</td>\n",
       "      <td>5</td>\n",
       "    </tr>\n",
       "    <tr>\n",
       "      <th>1396747</th>\n",
       "      <td>Zerek</td>\n",
       "      <td>M</td>\n",
       "      <td>5</td>\n",
       "    </tr>\n",
       "    <tr>\n",
       "      <th>1396748</th>\n",
       "      <td>Zeyd</td>\n",
       "      <td>M</td>\n",
       "      <td>5</td>\n",
       "    </tr>\n",
       "    <tr>\n",
       "      <th>1396749</th>\n",
       "      <td>Zhi</td>\n",
       "      <td>M</td>\n",
       "      <td>5</td>\n",
       "    </tr>\n",
       "    <tr>\n",
       "      <th>1396750</th>\n",
       "      <td>Ziel</td>\n",
       "      <td>M</td>\n",
       "      <td>5</td>\n",
       "    </tr>\n",
       "    <tr>\n",
       "      <th>1396751</th>\n",
       "      <td>Zihan</td>\n",
       "      <td>M</td>\n",
       "      <td>5</td>\n",
       "    </tr>\n",
       "    <tr>\n",
       "      <th>1396752</th>\n",
       "      <td>Zihao</td>\n",
       "      <td>M</td>\n",
       "      <td>5</td>\n",
       "    </tr>\n",
       "    <tr>\n",
       "      <th>1396753</th>\n",
       "      <td>Ziheng</td>\n",
       "      <td>M</td>\n",
       "      <td>5</td>\n",
       "    </tr>\n",
       "    <tr>\n",
       "      <th>1396754</th>\n",
       "      <td>Zimere</td>\n",
       "      <td>M</td>\n",
       "      <td>5</td>\n",
       "    </tr>\n",
       "    <tr>\n",
       "      <th>1396755</th>\n",
       "      <td>Ziyi</td>\n",
       "      <td>M</td>\n",
       "      <td>5</td>\n",
       "    </tr>\n",
       "    <tr>\n",
       "      <th>1396756</th>\n",
       "      <td>Ziyu</td>\n",
       "      <td>M</td>\n",
       "      <td>5</td>\n",
       "    </tr>\n",
       "    <tr>\n",
       "      <th>1396757</th>\n",
       "      <td>Zoel</td>\n",
       "      <td>M</td>\n",
       "      <td>5</td>\n",
       "    </tr>\n",
       "    <tr>\n",
       "      <th>1396758</th>\n",
       "      <td>Zohar</td>\n",
       "      <td>M</td>\n",
       "      <td>5</td>\n",
       "    </tr>\n",
       "    <tr>\n",
       "      <th>1396759</th>\n",
       "      <td>Zolton</td>\n",
       "      <td>M</td>\n",
       "      <td>5</td>\n",
       "    </tr>\n",
       "    <tr>\n",
       "      <th>1396760</th>\n",
       "      <td>Zyah</td>\n",
       "      <td>M</td>\n",
       "      <td>5</td>\n",
       "    </tr>\n",
       "    <tr>\n",
       "      <th>1396761</th>\n",
       "      <td>Zykell</td>\n",
       "      <td>M</td>\n",
       "      <td>5</td>\n",
       "    </tr>\n",
       "    <tr>\n",
       "      <th>1396762</th>\n",
       "      <td>Zyking</td>\n",
       "      <td>M</td>\n",
       "      <td>5</td>\n",
       "    </tr>\n",
       "    <tr>\n",
       "      <th>1396763</th>\n",
       "      <td>Zykir</td>\n",
       "      <td>M</td>\n",
       "      <td>5</td>\n",
       "    </tr>\n",
       "    <tr>\n",
       "      <th>1396764</th>\n",
       "      <td>Zyrus</td>\n",
       "      <td>M</td>\n",
       "      <td>5</td>\n",
       "    </tr>\n",
       "    <tr>\n",
       "      <th>1396765</th>\n",
       "      <td>Zyus</td>\n",
       "      <td>M</td>\n",
       "      <td>5</td>\n",
       "    </tr>\n",
       "  </tbody>\n",
       "</table>\n",
       "<p>1396765 rows × 3 columns</p>\n",
       "</div>"
      ],
      "text/plain": [
       "              name gender  count\n",
       "1            Linda      F  80439\n",
       "2             Mary      F  65485\n",
       "3         Patricia      F  47952\n",
       "4          Barbara      F  41570\n",
       "5            Susan      F  38021\n",
       "6            Nancy      F  29622\n",
       "7          Deborah      F  29073\n",
       "8           Sandra      F  28895\n",
       "9            Carol      F  26162\n",
       "10        Kathleen      F  25706\n",
       "11          Sharon      F  24614\n",
       "12           Karen      F  24144\n",
       "13           Donna      F  21632\n",
       "14          Brenda      F  20794\n",
       "15        Margaret      F  18107\n",
       "16           Diane      F  17636\n",
       "17          Pamela      F  16207\n",
       "18           Janet      F  16196\n",
       "19         Shirley      F  15896\n",
       "20         Carolyn      F  15596\n",
       "21          Judith      F  15358\n",
       "22          Janice      F  15019\n",
       "23         Cynthia      F  14451\n",
       "24       Elizabeth      F  14339\n",
       "25            Judy      F  14208\n",
       "26           Betty      F  13614\n",
       "27           Joyce      F  13418\n",
       "28       Christine      F  12677\n",
       "29          Cheryl      F  11825\n",
       "30          Gloria      F  11038\n",
       "...            ...    ...    ...\n",
       "1396736      Zavon      M      5\n",
       "1396737        Zay      M      5\n",
       "1396738     Zaylor      M      5\n",
       "1396739    Zayquan      M      5\n",
       "1396740   Zecharia      M      5\n",
       "1396741   Zecharya      M      5\n",
       "1396742        Zee      M      5\n",
       "1396743       Zeev      M      5\n",
       "1396744       Zeik      M      5\n",
       "1396745   Zekariah      M      5\n",
       "1396746    Zepplin      M      5\n",
       "1396747      Zerek      M      5\n",
       "1396748       Zeyd      M      5\n",
       "1396749        Zhi      M      5\n",
       "1396750       Ziel      M      5\n",
       "1396751      Zihan      M      5\n",
       "1396752      Zihao      M      5\n",
       "1396753     Ziheng      M      5\n",
       "1396754     Zimere      M      5\n",
       "1396755       Ziyi      M      5\n",
       "1396756       Ziyu      M      5\n",
       "1396757       Zoel      M      5\n",
       "1396758      Zohar      M      5\n",
       "1396759     Zolton      M      5\n",
       "1396760       Zyah      M      5\n",
       "1396761     Zykell      M      5\n",
       "1396762     Zyking      M      5\n",
       "1396763      Zykir      M      5\n",
       "1396764      Zyrus      M      5\n",
       "1396765       Zyus      M      5\n",
       "\n",
       "[1396765 rows x 3 columns]"
      ]
     },
     "execution_count": 32,
     "metadata": {},
     "output_type": "execute_result"
    }
   ],
   "source": [
    "## drop first row\n",
    "names.drop(names.index[0])"
   ]
  },
  {
   "cell_type": "code",
   "execution_count": 33,
   "metadata": {
    "collapsed": false
   },
   "outputs": [],
   "source": [
    "## create male, female subsets\n",
    "names_grouped = names.groupby(['name', 'gender'], as_index=False)['count'].sum()\n",
    "males = names_grouped[names_grouped['gender']=='M']\n",
    "females = names_grouped[names_grouped['gender']=='F']"
   ]
  },
  {
   "cell_type": "code",
   "execution_count": 35,
   "metadata": {
    "collapsed": false
   },
   "outputs": [
    {
     "data": {
      "text/html": [
       "<div>\n",
       "<table border=\"1\" class=\"dataframe\">\n",
       "  <thead>\n",
       "    <tr style=\"text-align: right;\">\n",
       "      <th></th>\n",
       "      <th>name</th>\n",
       "      <th>gender</th>\n",
       "      <th>count</th>\n",
       "    </tr>\n",
       "  </thead>\n",
       "  <tbody>\n",
       "    <tr>\n",
       "      <th>1</th>\n",
       "      <td>Aaban</td>\n",
       "      <td>M</td>\n",
       "      <td>87</td>\n",
       "    </tr>\n",
       "    <tr>\n",
       "      <th>3</th>\n",
       "      <td>Aabid</td>\n",
       "      <td>M</td>\n",
       "      <td>5</td>\n",
       "    </tr>\n",
       "    <tr>\n",
       "      <th>6</th>\n",
       "      <td>Aadam</td>\n",
       "      <td>M</td>\n",
       "      <td>218</td>\n",
       "    </tr>\n",
       "    <tr>\n",
       "      <th>7</th>\n",
       "      <td>Aadan</td>\n",
       "      <td>M</td>\n",
       "      <td>122</td>\n",
       "    </tr>\n",
       "    <tr>\n",
       "      <th>8</th>\n",
       "      <td>Aadarsh</td>\n",
       "      <td>M</td>\n",
       "      <td>173</td>\n",
       "    </tr>\n",
       "  </tbody>\n",
       "</table>\n",
       "</div>"
      ],
      "text/plain": [
       "      name gender  count\n",
       "1    Aaban      M     87\n",
       "3    Aabid      M      5\n",
       "6    Aadam      M    218\n",
       "7    Aadan      M    122\n",
       "8  Aadarsh      M    173"
      ]
     },
     "execution_count": 35,
     "metadata": {},
     "output_type": "execute_result"
    }
   ],
   "source": [
    "males.head()"
   ]
  },
  {
   "cell_type": "code",
   "execution_count": 36,
   "metadata": {
    "collapsed": false
   },
   "outputs": [
    {
     "data": {
      "text/html": [
       "<div>\n",
       "<table border=\"1\" class=\"dataframe\">\n",
       "  <thead>\n",
       "    <tr style=\"text-align: right;\">\n",
       "      <th></th>\n",
       "      <th>name</th>\n",
       "      <th>gender</th>\n",
       "      <th>count</th>\n",
       "    </tr>\n",
       "  </thead>\n",
       "  <tbody>\n",
       "    <tr>\n",
       "      <th>2</th>\n",
       "      <td>Aabha</td>\n",
       "      <td>F</td>\n",
       "      <td>28</td>\n",
       "    </tr>\n",
       "    <tr>\n",
       "      <th>4</th>\n",
       "      <td>Aabriella</td>\n",
       "      <td>F</td>\n",
       "      <td>15</td>\n",
       "    </tr>\n",
       "    <tr>\n",
       "      <th>5</th>\n",
       "      <td>Aada</td>\n",
       "      <td>F</td>\n",
       "      <td>5</td>\n",
       "    </tr>\n",
       "    <tr>\n",
       "      <th>9</th>\n",
       "      <td>Aaden</td>\n",
       "      <td>F</td>\n",
       "      <td>5</td>\n",
       "    </tr>\n",
       "    <tr>\n",
       "      <th>15</th>\n",
       "      <td>Aadhira</td>\n",
       "      <td>F</td>\n",
       "      <td>37</td>\n",
       "    </tr>\n",
       "  </tbody>\n",
       "</table>\n",
       "</div>"
      ],
      "text/plain": [
       "         name gender  count\n",
       "2       Aabha      F     28\n",
       "4   Aabriella      F     15\n",
       "5        Aada      F      5\n",
       "9       Aaden      F      5\n",
       "15    Aadhira      F     37"
      ]
     },
     "execution_count": 36,
     "metadata": {},
     "output_type": "execute_result"
    }
   ],
   "source": [
    "females.head()"
   ]
  },
  {
   "cell_type": "code",
   "execution_count": 37,
   "metadata": {
    "collapsed": false
   },
   "outputs": [],
   "source": [
    "## 9259 names can be either f or m\n",
    "men = set(males.iloc[:,0])\n",
    "women = set(females.iloc[:,0])\n",
    "len(men.intersection(women))"
   ]
  },
  {
   "cell_type": "code",
   "execution_count": 39,
   "metadata": {
    "collapsed": false
   },
   "outputs": [
    {
     "data": {
      "text/plain": [
       "(36884, 61235)"
      ]
     },
     "execution_count": 39,
     "metadata": {},
     "output_type": "execute_result"
    }
   ],
   "source": [
    "## total names for m and f\n",
    "len(men), len(women)"
   ]
  },
  {
   "cell_type": "code",
   "execution_count": 40,
   "metadata": {
    "collapsed": true
   },
   "outputs": [],
   "source": [
    "## merge names so we can create a gender index\n",
    "m_f = males.merge(females, on='name', how='outer', indicator=True)"
   ]
  },
  {
   "cell_type": "code",
   "execution_count": 41,
   "metadata": {
    "collapsed": true
   },
   "outputs": [],
   "source": [
    "## make empty column\n",
    "m_f['index']=''"
   ]
  },
  {
   "cell_type": "code",
   "execution_count": 42,
   "metadata": {
    "collapsed": false
   },
   "outputs": [],
   "source": [
    "## fill with index formula: malecount-femalecount / malecount+femalecount\n",
    "m_f['index'] = np.where(m_f['_merge']=='left_only', 1, np.where(m_f['_merge']=='right_only', -1, (m_f['count_x'] - m_f['count_y'])/(m_f['count_x'] + m_f['count_y'])))"
   ]
  },
  {
   "cell_type": "code",
   "execution_count": 43,
   "metadata": {
    "collapsed": true
   },
   "outputs": [],
   "source": [
    "## inspect\n",
    "m_f['gender'] = np.where(m_f['index']>0, 'male', 'female')\n",
    "m_f.head()"
   ]
  },
  {
   "cell_type": "code",
   "execution_count": 44,
   "metadata": {
    "collapsed": false,
    "scrolled": false
   },
   "outputs": [
    {
     "data": {
      "text/html": [
       "<div>\n",
       "<table border=\"1\" class=\"dataframe\">\n",
       "  <thead>\n",
       "    <tr style=\"text-align: right;\">\n",
       "      <th></th>\n",
       "      <th>name</th>\n",
       "      <th>gender_x</th>\n",
       "      <th>count_x</th>\n",
       "      <th>gender_y</th>\n",
       "      <th>count_y</th>\n",
       "      <th>_merge</th>\n",
       "      <th>index</th>\n",
       "      <th>gender</th>\n",
       "    </tr>\n",
       "  </thead>\n",
       "  <tbody>\n",
       "    <tr>\n",
       "      <th>0</th>\n",
       "      <td>Aaban</td>\n",
       "      <td>M</td>\n",
       "      <td>87.0</td>\n",
       "      <td>NaN</td>\n",
       "      <td>NaN</td>\n",
       "      <td>left_only</td>\n",
       "      <td>1.0</td>\n",
       "      <td>male</td>\n",
       "    </tr>\n",
       "    <tr>\n",
       "      <th>1</th>\n",
       "      <td>Aabid</td>\n",
       "      <td>M</td>\n",
       "      <td>5.0</td>\n",
       "      <td>NaN</td>\n",
       "      <td>NaN</td>\n",
       "      <td>left_only</td>\n",
       "      <td>1.0</td>\n",
       "      <td>male</td>\n",
       "    </tr>\n",
       "    <tr>\n",
       "      <th>2</th>\n",
       "      <td>Aadam</td>\n",
       "      <td>M</td>\n",
       "      <td>218.0</td>\n",
       "      <td>NaN</td>\n",
       "      <td>NaN</td>\n",
       "      <td>left_only</td>\n",
       "      <td>1.0</td>\n",
       "      <td>male</td>\n",
       "    </tr>\n",
       "    <tr>\n",
       "      <th>3</th>\n",
       "      <td>Aadan</td>\n",
       "      <td>M</td>\n",
       "      <td>122.0</td>\n",
       "      <td>NaN</td>\n",
       "      <td>NaN</td>\n",
       "      <td>left_only</td>\n",
       "      <td>1.0</td>\n",
       "      <td>male</td>\n",
       "    </tr>\n",
       "    <tr>\n",
       "      <th>4</th>\n",
       "      <td>Aadarsh</td>\n",
       "      <td>M</td>\n",
       "      <td>173.0</td>\n",
       "      <td>NaN</td>\n",
       "      <td>NaN</td>\n",
       "      <td>left_only</td>\n",
       "      <td>1.0</td>\n",
       "      <td>male</td>\n",
       "    </tr>\n",
       "  </tbody>\n",
       "</table>\n",
       "</div>"
      ],
      "text/plain": [
       "      name gender_x  count_x gender_y  count_y     _merge  index gender\n",
       "0    Aaban        M     87.0      NaN      NaN  left_only    1.0   male\n",
       "1    Aabid        M      5.0      NaN      NaN  left_only    1.0   male\n",
       "2    Aadam        M    218.0      NaN      NaN  left_only    1.0   male\n",
       "3    Aadan        M    122.0      NaN      NaN  left_only    1.0   male\n",
       "4  Aadarsh        M    173.0      NaN      NaN  left_only    1.0   male"
      ]
     },
     "execution_count": 44,
     "metadata": {},
     "output_type": "execute_result"
    }
   ],
   "source": []
  },
  {
   "cell_type": "code",
   "execution_count": 46,
   "metadata": {
    "collapsed": false
   },
   "outputs": [
    {
     "data": {
      "text/plain": [
       "-0.27058807072769847"
      ]
     },
     "execution_count": 46,
     "metadata": {},
     "output_type": "execute_result"
    }
   ],
   "source": [
    "## overall gender count tilts to female\n",
    "m_f['index'].mean()"
   ]
  },
  {
   "cell_type": "code",
   "execution_count": 47,
   "metadata": {
    "collapsed": false
   },
   "outputs": [
    {
     "data": {
      "text/html": [
       "<div>\n",
       "<table border=\"1\" class=\"dataframe\">\n",
       "  <thead>\n",
       "    <tr style=\"text-align: right;\">\n",
       "      <th></th>\n",
       "      <th>name</th>\n",
       "      <th>gender_x</th>\n",
       "      <th>count_x</th>\n",
       "      <th>gender_y</th>\n",
       "      <th>count_y</th>\n",
       "      <th>_merge</th>\n",
       "      <th>index</th>\n",
       "      <th>gender</th>\n",
       "    </tr>\n",
       "  </thead>\n",
       "  <tbody>\n",
       "    <tr>\n",
       "      <th>5</th>\n",
       "      <td>Aaden</td>\n",
       "      <td>M</td>\n",
       "      <td>4213.0</td>\n",
       "      <td>F</td>\n",
       "      <td>5.0</td>\n",
       "      <td>both</td>\n",
       "      <td>0.997629</td>\n",
       "      <td>male</td>\n",
       "    </tr>\n",
       "    <tr>\n",
       "      <th>12</th>\n",
       "      <td>Aadi</td>\n",
       "      <td>M</td>\n",
       "      <td>710.0</td>\n",
       "      <td>F</td>\n",
       "      <td>16.0</td>\n",
       "      <td>both</td>\n",
       "      <td>0.955923</td>\n",
       "      <td>male</td>\n",
       "    </tr>\n",
       "    <tr>\n",
       "      <th>26</th>\n",
       "      <td>Aadyn</td>\n",
       "      <td>M</td>\n",
       "      <td>416.0</td>\n",
       "      <td>F</td>\n",
       "      <td>16.0</td>\n",
       "      <td>both</td>\n",
       "      <td>0.925926</td>\n",
       "      <td>male</td>\n",
       "    </tr>\n",
       "    <tr>\n",
       "      <th>43</th>\n",
       "      <td>Aalijah</td>\n",
       "      <td>M</td>\n",
       "      <td>172.0</td>\n",
       "      <td>F</td>\n",
       "      <td>119.0</td>\n",
       "      <td>both</td>\n",
       "      <td>0.182131</td>\n",
       "      <td>male</td>\n",
       "    </tr>\n",
       "    <tr>\n",
       "      <th>45</th>\n",
       "      <td>Aaliyah</td>\n",
       "      <td>M</td>\n",
       "      <td>89.0</td>\n",
       "      <td>F</td>\n",
       "      <td>74710.0</td>\n",
       "      <td>both</td>\n",
       "      <td>-0.997620</td>\n",
       "      <td>female</td>\n",
       "    </tr>\n",
       "  </tbody>\n",
       "</table>\n",
       "</div>"
      ],
      "text/plain": [
       "       name gender_x  count_x gender_y  count_y _merge     index  gender\n",
       "5     Aaden        M   4213.0        F      5.0   both  0.997629    male\n",
       "12     Aadi        M    710.0        F     16.0   both  0.955923    male\n",
       "26    Aadyn        M    416.0        F     16.0   both  0.925926    male\n",
       "43  Aalijah        M    172.0        F    119.0   both  0.182131    male\n",
       "45  Aaliyah        M     89.0        F  74710.0   both -0.997620  female"
      ]
     },
     "execution_count": 47,
     "metadata": {},
     "output_type": "execute_result"
    }
   ],
   "source": [
    "## the index is working; let's see what the distribution of ambiguous names looks like \n",
    "m_f[(m_f['index']>-1) & (m_f['index'] < 1)].head()"
   ]
  },
  {
   "cell_type": "code",
   "execution_count": 48,
   "metadata": {
    "collapsed": false
   },
   "outputs": [
    {
     "data": {
      "image/png": "[encoded data removed]",
      "text/plain": [
       "<matplotlib.figure.Figure at 0x119f3f450>"
      ]
     },
     "metadata": {},
     "output_type": "display_data"
    }
   ],
   "source": [
    "## plot the overall distribution of names by index\n",
    "n, bins, patches = plot.hist(m_f['index'], 50, normed=1, histtype='bar', rwidth=0.8)\n",
    "plot.setp(patches, 'facecolor', 'lightblue', 'alpha', 0.75);"
   ]
  },
  {
   "cell_type": "code",
   "execution_count": 49,
   "metadata": {
    "collapsed": false
   },
   "outputs": [
    {
     "data": {
      "text/plain": [
       "([0.99762920815552392, 0.9559228650137741],\n",
       " [0.59603658536585369, 0.57333333333333336])"
      ]
     },
     "execution_count": 49,
     "metadata": {},
     "output_type": "execute_result"
    }
   ],
   "source": [
    "## look at the ambiguous names\n",
    "ambig_index = list(m_f[(m_f['index']>-1) & (m_f['index'] < 1)].iloc[:,6])\n",
    "ambig_index[:2], ambig_index[-2:]"
   ]
  },
  {
   "cell_type": "code",
   "execution_count": 50,
   "metadata": {
    "collapsed": false,
    "scrolled": false
   },
   "outputs": [
    {
     "data": {
      "image/png": "[encoded data removed]",
      "text/plain": [
       "<matplotlib.figure.Figure at 0x11c885f10>"
      ]
     },
     "metadata": {},
     "output_type": "display_data"
    }
   ],
   "source": [
    "## plot distribution of ambiguous name indices\n",
    "n, bins, patches = plot.hist(ambig_index, 50, normed=1, histtype='bar', rwidth=0.8)\n",
    "plot.setp(patches, 'facecolor', 'lightblue', 'alpha', 0.75);"
   ]
  },
  {
   "cell_type": "code",
   "execution_count": 51,
   "metadata": {
    "collapsed": false
   },
   "outputs": [
    {
     "data": {
      "text/plain": [
       "(3327, 3678)"
      ]
     },
     "execution_count": 51,
     "metadata": {},
     "output_type": "execute_result"
    }
   ],
   "source": [
    "## of the 9K ambiguous names, most (7K) have a >.5 prob of being either M or F \n",
    "len([index for index in ambig_index if index < -.5]), len([index for index in ambig_index if index > .5])"
   ]
  },
  {
   "cell_type": "code",
   "execution_count": 52,
   "metadata": {
    "collapsed": true
   },
   "outputs": [],
   "source": [
    "## create our own corpus of SS names including the gender and index\n",
    "namesList = m_f.iloc[:,[0,6,7]]"
   ]
  },
  {
   "cell_type": "code",
   "execution_count": 53,
   "metadata": {
    "collapsed": false
   },
   "outputs": [
    {
     "data": {
      "text/html": [
       "<div>\n",
       "<table border=\"1\" class=\"dataframe\">\n",
       "  <thead>\n",
       "    <tr style=\"text-align: right;\">\n",
       "      <th></th>\n",
       "      <th>name</th>\n",
       "      <th>index</th>\n",
       "      <th>gender</th>\n",
       "    </tr>\n",
       "  </thead>\n",
       "  <tbody>\n",
       "    <tr>\n",
       "      <th>0</th>\n",
       "      <td>Aaban</td>\n",
       "      <td>1.0</td>\n",
       "      <td>male</td>\n",
       "    </tr>\n",
       "    <tr>\n",
       "      <th>1</th>\n",
       "      <td>Aabid</td>\n",
       "      <td>1.0</td>\n",
       "      <td>male</td>\n",
       "    </tr>\n",
       "    <tr>\n",
       "      <th>2</th>\n",
       "      <td>Aadam</td>\n",
       "      <td>1.0</td>\n",
       "      <td>male</td>\n",
       "    </tr>\n",
       "    <tr>\n",
       "      <th>3</th>\n",
       "      <td>Aadan</td>\n",
       "      <td>1.0</td>\n",
       "      <td>male</td>\n",
       "    </tr>\n",
       "    <tr>\n",
       "      <th>4</th>\n",
       "      <td>Aadarsh</td>\n",
       "      <td>1.0</td>\n",
       "      <td>male</td>\n",
       "    </tr>\n",
       "  </tbody>\n",
       "</table>\n",
       "</div>"
      ],
      "text/plain": [
       "      name  index gender\n",
       "0    Aaban    1.0   male\n",
       "1    Aabid    1.0   male\n",
       "2    Aadam    1.0   male\n",
       "3    Aadan    1.0   male\n",
       "4  Aadarsh    1.0   male"
      ]
     },
     "execution_count": 53,
     "metadata": {},
     "output_type": "execute_result"
    }
   ],
   "source": [
    "namesList.head()"
   ]
  },
  {
   "cell_type": "code",
   "execution_count": 54,
   "metadata": {
    "collapsed": false
   },
   "outputs": [
    {
     "name": "stdout",
     "output_type": "stream",
     "text": [
      "Series([], dtype: bool)\n"
     ]
    }
   ],
   "source": [
    "## check for duplicates; find none\n",
    "search = pd.DataFrame.duplicated(namesList)\n",
    "print search[search == True][:9]"
   ]
  },
  {
   "cell_type": "code",
   "execution_count": 70,
   "metadata": {
    "collapsed": false
   },
   "outputs": [],
   "source": [
    "## make our own name list so we can build features in nltk\n",
    "namesList2 = [tuple(x) for x in namesList.to_records(index=False)]"
   ]
  },
  {
   "cell_type": "code",
   "execution_count": 71,
   "metadata": {
    "collapsed": false
   },
   "outputs": [
    {
     "data": {
      "text/plain": [
       "[('Zyriel', -1.0, u'female'),\n",
       " ('Zyrielle', -1.0, u'female'),\n",
       " ('Zyrihanna', -1.0, u'female'),\n",
       " ('Zyriyah', -1.0, u'female'),\n",
       " ('Zyyanna', -1.0, u'female')]"
      ]
     },
     "execution_count": 71,
     "metadata": {},
     "output_type": "execute_result"
    }
   ],
   "source": [
    "## check it\n",
    "namesList2[-5:]"
   ]
  }
 ],
 "metadata": {
  "anaconda-cloud": {},
  "kernelspec": {
   "display_name": "Python [conda root]",
   "language": "python",
   "name": "conda-root-py"
  },
  "language_info": {
   "codemirror_mode": {
    "name": "ipython",
    "version": 2
   },
   "file_extension": ".py",
   "mimetype": "text/x-python",
   "name": "python",
   "nbconvert_exporter": "python",
   "pygments_lexer": "ipython2",
   "version": "2.7.12"
  }
 },
 "nbformat": 4,
 "nbformat_minor": 0
}
